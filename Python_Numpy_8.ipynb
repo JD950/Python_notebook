{
  "nbformat": 4,
  "nbformat_minor": 0,
  "metadata": {
    "kernelspec": {
      "display_name": "Python 3",
      "language": "python",
      "name": "python3"
    },
    "language_info": {
      "codemirror_mode": {
        "name": "ipython",
        "version": 3
      },
      "file_extension": ".py",
      "mimetype": "text/x-python",
      "name": "python",
      "nbconvert_exporter": "python",
      "pygments_lexer": "ipython3",
      "version": "3.7.4"
    },
    "colab": {
      "name": "Copy of 01_Python Numpy.ipynb",
      "provenance": [],
      "include_colab_link": true
    }
  },
  "cells": [
    {
      "cell_type": "markdown",
      "metadata": {
        "id": "view-in-github",
        "colab_type": "text"
      },
      "source": [
        "<a href=\"https://colab.research.google.com/github/JD950/Python_notebook/blob/main/Python_Numpy_8.ipynb\" target=\"_parent\"><img src=\"https://colab.research.google.com/assets/colab-badge.svg\" alt=\"Open In Colab\"/></a>"
      ]
    },
    {
      "cell_type": "markdown",
      "metadata": {
        "id": "CQIdoQwFFEey"
      },
      "source": [
        "The first thing we want to do is import numpy."
      ]
    },
    {
      "cell_type": "code",
      "metadata": {
        "id": "gaFMYBu5FEe8"
      },
      "source": [
        "import numpy as np"
      ],
      "execution_count": 1,
      "outputs": []
    },
    {
      "cell_type": "markdown",
      "metadata": {
        "id": "jen2ILVRFEe-"
      },
      "source": [
        "Let us first define a Python list containing the ages of 6 people."
      ]
    },
    {
      "cell_type": "code",
      "metadata": {
        "id": "DEGlE86RFEe_",
        "colab": {
          "base_uri": "https://localhost:8080/"
        },
        "outputId": "d6c7c2d3-e46c-420e-97e0-75ab5a5a1a72"
      },
      "source": [
        "ages_list = [10, 5, 8, 32, 65, 43]\n",
        "print(ages_list)"
      ],
      "execution_count": 2,
      "outputs": [
        {
          "output_type": "stream",
          "name": "stdout",
          "text": [
            "[10, 5, 8, 32, 65, 43]\n"
          ]
        }
      ]
    },
    {
      "cell_type": "markdown",
      "metadata": {
        "id": "Yj7xUNWwFEfA"
      },
      "source": [
        "There are 3 main ways to instantiate a Numpy ndarray object. One of these is to use `np.array(<collection>)`"
      ]
    },
    {
      "cell_type": "code",
      "metadata": {
        "id": "Hfsn2AorFEfA",
        "colab": {
          "base_uri": "https://localhost:8080/"
        },
        "outputId": "ffa4fca9-dcb5-4438-b3f6-4304a3e4ea25"
      },
      "source": [
        "ages = np.array(ages_list)\n",
        "print(type(ages))\n",
        "print(ages)"
      ],
      "execution_count": 3,
      "outputs": [
        {
          "output_type": "stream",
          "name": "stdout",
          "text": [
            "<class 'numpy.ndarray'>\n",
            "[10  5  8 32 65 43]\n"
          ]
        }
      ]
    },
    {
      "cell_type": "code",
      "metadata": {
        "id": "GwI0DSx2FEfB",
        "colab": {
          "base_uri": "https://localhost:8080/"
        },
        "outputId": "430c01e7-fbad-49da-d98a-9b4963368914"
      },
      "source": [
        "print(ages)\n",
        "print(\"Size:\\t\" , ages.size)\n",
        "print(\"Shape:\\t\", ages.shape)"
      ],
      "execution_count": 4,
      "outputs": [
        {
          "output_type": "stream",
          "name": "stdout",
          "text": [
            "[10  5  8 32 65 43]\n",
            "Size:\t 6\n",
            "Shape:\t (6,)\n"
          ]
        }
      ]
    },
    {
      "cell_type": "code",
      "metadata": {
        "scrolled": true,
        "id": "GMqAlyHWFEfD",
        "colab": {
          "base_uri": "https://localhost:8080/"
        },
        "outputId": "c3f325ea-c999-47a9-fa41-49c2efb84f26"
      },
      "source": [
        "zeroArr = np.zeros(5)\n",
        "print(zeroArr)"
      ],
      "execution_count": 5,
      "outputs": [
        {
          "output_type": "stream",
          "name": "stdout",
          "text": [
            "[0. 0. 0. 0. 0.]\n"
          ]
        }
      ]
    },
    {
      "cell_type": "markdown",
      "metadata": {
        "id": "uDQnelbrFEfE"
      },
      "source": [
        "### Multi-dim"
      ]
    },
    {
      "cell_type": "markdown",
      "metadata": {
        "id": "tGN5oTcyFEfF"
      },
      "source": [
        "Now let us define a new list containing the weights of these 6 people."
      ]
    },
    {
      "cell_type": "code",
      "metadata": {
        "id": "OPrNicCXFEfG"
      },
      "source": [
        "weight_list = [32, 18, 26, 60, 55, 65]"
      ],
      "execution_count": 6,
      "outputs": []
    },
    {
      "cell_type": "markdown",
      "metadata": {
        "id": "9b1kE_aXFEfH"
      },
      "source": [
        "Now, we define an ndarray containing all fo this information, and again print the size and shape of the array."
      ]
    },
    {
      "cell_type": "code",
      "metadata": {
        "id": "lEGSfz9FFEfI",
        "colab": {
          "base_uri": "https://localhost:8080/"
        },
        "outputId": "3932dbc4-d165-45cb-9710-e51672132b1c"
      },
      "source": [
        "people = np.array([ages_list, weight_list])\n",
        "\n",
        "print(\"People:\\t\" , people)\n",
        "print(\"Size:\\t\" , people.size)\n",
        "print(\"Shape:\\t\", people.shape)"
      ],
      "execution_count": 7,
      "outputs": [
        {
          "output_type": "stream",
          "name": "stdout",
          "text": [
            "People:\t [[10  5  8 32 65 43]\n",
            " [32 18 26 60 55 65]]\n",
            "Size:\t 12\n",
            "Shape:\t (2, 6)\n"
          ]
        }
      ]
    },
    {
      "cell_type": "code",
      "metadata": {
        "id": "mSdEFurdFEfI",
        "colab": {
          "base_uri": "https://localhost:8080/"
        },
        "outputId": "31c81396-cfdf-4ca5-a32f-fcd7dc07ceab"
      },
      "source": [
        "people = people.reshape(12,1)\n",
        "print(\"People:\\t\" , people)\n",
        "print(\"Size:\\t\" , people.size)\n",
        "print(\"Shape:\\t\", people.shape)"
      ],
      "execution_count": 8,
      "outputs": [
        {
          "output_type": "stream",
          "name": "stdout",
          "text": [
            "People:\t [[10]\n",
            " [ 5]\n",
            " [ 8]\n",
            " [32]\n",
            " [65]\n",
            " [43]\n",
            " [32]\n",
            " [18]\n",
            " [26]\n",
            " [60]\n",
            " [55]\n",
            " [65]]\n",
            "Size:\t 12\n",
            "Shape:\t (12, 1)\n"
          ]
        }
      ]
    },
    {
      "cell_type": "markdown",
      "metadata": {
        "id": "AcAUmOGFFEfJ"
      },
      "source": [
        "###### Note: The new shape must be the same \"size\" as the old shape"
      ]
    },
    {
      "cell_type": "markdown",
      "metadata": {
        "id": "_fwkQK3pFEfK"
      },
      "source": [
        "## Array Generation"
      ]
    },
    {
      "cell_type": "markdown",
      "metadata": {
        "id": "LgKM0b5VFEfL"
      },
      "source": [
        "Instead of defining an array manually, we can ask numpy to do it for us.\n",
        "\n",
        "The `np.arange()` method creates a range of numbers with user defined steps between each."
      ]
    },
    {
      "cell_type": "code",
      "metadata": {
        "id": "ODpkCW1UFEfM",
        "colab": {
          "base_uri": "https://localhost:8080/"
        },
        "outputId": "3fd861a1-dabb-49ff-fd80-61eba80652e1"
      },
      "source": [
        "five_times_table = np.arange(0, 55, 5)\n",
        "five_times_table"
      ],
      "execution_count": 21,
      "outputs": [
        {
          "output_type": "execute_result",
          "data": {
            "text/plain": [
              "array([ 0,  5, 10, 15, 20, 25, 30, 35, 40, 45, 50])"
            ]
          },
          "metadata": {},
          "execution_count": 21
        }
      ]
    },
    {
      "cell_type": "markdown",
      "metadata": {
        "id": "ennDVTlWFEfN"
      },
      "source": [
        "The `np.linspace()` method will produce a range of evenly spaced values, starting, ending, and taking as many steps as you specify."
      ]
    },
    {
      "cell_type": "code",
      "metadata": {
        "id": "YTqt8F6MFEfN",
        "colab": {
          "base_uri": "https://localhost:8080/"
        },
        "outputId": "ec3958da-2f68-4880-f231-15f6aa58f601"
      },
      "source": [
        "five_spaced = np.linspace(0,50,11)\n",
        "print(five_spaced)"
      ],
      "execution_count": 18,
      "outputs": [
        {
          "output_type": "stream",
          "name": "stdout",
          "text": [
            "[ 0.  5. 10. 15. 20. 25. 30. 35. 40. 45. 50.]\n"
          ]
        }
      ]
    },
    {
      "cell_type": "markdown",
      "metadata": {
        "id": "EGBBmwC2FEfO"
      },
      "source": [
        "The `.repeat()` method will repeat an object you pas a specified number of times."
      ]
    },
    {
      "cell_type": "code",
      "metadata": {
        "id": "j1GnEAEcFEfO",
        "colab": {
          "base_uri": "https://localhost:8080/"
        },
        "outputId": "67253481-821c-40a4-b06a-25560b02b60a"
      },
      "source": [
        "twoArr = np.repeat(2, 10)\n",
        "print(twoArr)"
      ],
      "execution_count": 19,
      "outputs": [
        {
          "output_type": "stream",
          "name": "stdout",
          "text": [
            "[2 2 2 2 2 2 2 2 2 2]\n"
          ]
        }
      ]
    },
    {
      "cell_type": "markdown",
      "metadata": {
        "id": "cP96qdtzFEfP"
      },
      "source": [
        "The `np.eye()` functions will create an identity matrix/array for us."
      ]
    },
    {
      "cell_type": "code",
      "metadata": {
        "id": "tHpTIoOYFEfQ",
        "colab": {
          "base_uri": "https://localhost:8080/"
        },
        "outputId": "efc8e5e9-e896-48b6-f4c8-6a8321e8b79c"
      },
      "source": [
        "identity_matrix = np.eye(6)\n",
        "print(identity_matrix)"
      ],
      "execution_count": 14,
      "outputs": [
        {
          "output_type": "stream",
          "name": "stdout",
          "text": [
            "[[1. 0. 0. 0. 0. 0.]\n",
            " [0. 1. 0. 0. 0. 0.]\n",
            " [0. 0. 1. 0. 0. 0.]\n",
            " [0. 0. 0. 1. 0. 0.]\n",
            " [0. 0. 0. 0. 1. 0.]\n",
            " [0. 0. 0. 0. 0. 1.]]\n"
          ]
        }
      ]
    },
    {
      "cell_type": "markdown",
      "metadata": {
        "id": "ZlimDz8DFEfQ"
      },
      "source": [
        "# Operations"
      ]
    },
    {
      "cell_type": "markdown",
      "metadata": {
        "id": "j0DL-NLLFEfQ"
      },
      "source": [
        "There are many, many operations which we can perform on arrays. "
      ]
    },
    {
      "cell_type": "code",
      "metadata": {
        "id": "9Ujl5KheFEfS",
        "colab": {
          "base_uri": "https://localhost:8080/"
        },
        "outputId": "e45908d8-17c1-4bec-e1ee-858f47e1b06a"
      },
      "source": [
        "five_times_table"
      ],
      "execution_count": 22,
      "outputs": [
        {
          "output_type": "execute_result",
          "data": {
            "text/plain": [
              "array([ 0,  5, 10, 15, 20, 25, 30, 35, 40, 45, 50])"
            ]
          },
          "metadata": {},
          "execution_count": 22
        }
      ]
    },
    {
      "cell_type": "code",
      "metadata": {
        "scrolled": true,
        "id": "S_qeKK4iFEfS",
        "colab": {
          "base_uri": "https://localhost:8080/"
        },
        "outputId": "4b2bc17b-3655-4dcd-98f7-a8058c6a6628"
      },
      "source": [
        "print(\"1:\", 2 * five_times_table)\n",
        "print(\"2:\", 10 + five_times_table)\n",
        "print(\"3:\", five_times_table - 1)\n",
        "print(\"4:\", five_times_table/5)\n",
        "print(\"5:\", five_times_table **2)\n",
        "print(\"6:\", five_times_table < 20)"
      ],
      "execution_count": 23,
      "outputs": [
        {
          "output_type": "stream",
          "name": "stdout",
          "text": [
            "1: [  0  10  20  30  40  50  60  70  80  90 100]\n",
            "2: [10 15 20 25 30 35 40 45 50 55 60]\n",
            "3: [-1  4  9 14 19 24 29 34 39 44 49]\n",
            "4: [ 0.  1.  2.  3.  4.  5.  6.  7.  8.  9. 10.]\n",
            "5: [   0   25  100  225  400  625  900 1225 1600 2025 2500]\n",
            "6: [ True  True  True  True False False False False False False False]\n"
          ]
        }
      ]
    },
    {
      "cell_type": "markdown",
      "metadata": {
        "id": "v8kLbKxvFEfS"
      },
      "source": [
        "### Speed Test"
      ]
    },
    {
      "cell_type": "markdown",
      "metadata": {
        "id": "K0_hxEyuFEfS"
      },
      "source": [
        "If we compare the speed at which we can do these operations compared to core python, we will notice a substantial difference."
      ]
    },
    {
      "cell_type": "code",
      "metadata": {
        "scrolled": true,
        "id": "yA2n--u2FEfT",
        "colab": {
          "base_uri": "https://localhost:8080/"
        },
        "outputId": "79b3f3af-3f2f-4397-8b8a-96154d2bc401"
      },
      "source": [
        "fives_list = list(range(0,500,5))\n",
        "fives_list"
      ],
      "execution_count": 37,
      "outputs": [
        {
          "output_type": "execute_result",
          "data": {
            "text/plain": [
              "[0,\n",
              " 5,\n",
              " 10,\n",
              " 15,\n",
              " 20,\n",
              " 25,\n",
              " 30,\n",
              " 35,\n",
              " 40,\n",
              " 45,\n",
              " 50,\n",
              " 55,\n",
              " 60,\n",
              " 65,\n",
              " 70,\n",
              " 75,\n",
              " 80,\n",
              " 85,\n",
              " 90,\n",
              " 95,\n",
              " 100,\n",
              " 105,\n",
              " 110,\n",
              " 115,\n",
              " 120,\n",
              " 125,\n",
              " 130,\n",
              " 135,\n",
              " 140,\n",
              " 145,\n",
              " 150,\n",
              " 155,\n",
              " 160,\n",
              " 165,\n",
              " 170,\n",
              " 175,\n",
              " 180,\n",
              " 185,\n",
              " 190,\n",
              " 195,\n",
              " 200,\n",
              " 205,\n",
              " 210,\n",
              " 215,\n",
              " 220,\n",
              " 225,\n",
              " 230,\n",
              " 235,\n",
              " 240,\n",
              " 245,\n",
              " 250,\n",
              " 255,\n",
              " 260,\n",
              " 265,\n",
              " 270,\n",
              " 275,\n",
              " 280,\n",
              " 285,\n",
              " 290,\n",
              " 295,\n",
              " 300,\n",
              " 305,\n",
              " 310,\n",
              " 315,\n",
              " 320,\n",
              " 325,\n",
              " 330,\n",
              " 335,\n",
              " 340,\n",
              " 345,\n",
              " 350,\n",
              " 355,\n",
              " 360,\n",
              " 365,\n",
              " 370,\n",
              " 375,\n",
              " 380,\n",
              " 385,\n",
              " 390,\n",
              " 395,\n",
              " 400,\n",
              " 405,\n",
              " 410,\n",
              " 415,\n",
              " 420,\n",
              " 425,\n",
              " 430,\n",
              " 435,\n",
              " 440,\n",
              " 445,\n",
              " 450,\n",
              " 455,\n",
              " 460,\n",
              " 465,\n",
              " 470,\n",
              " 475,\n",
              " 480,\n",
              " 485,\n",
              " 490,\n",
              " 495]"
            ]
          },
          "metadata": {},
          "execution_count": 37
        }
      ]
    },
    {
      "cell_type": "code",
      "metadata": {
        "id": "-SsircjyFEfU",
        "colab": {
          "base_uri": "https://localhost:8080/"
        },
        "outputId": "fb8906d9-5ad9-4b31-8abb-344b0c92d989"
      },
      "source": [
        "five_times_table_lge = np.arange(0,5001,5)\n",
        "five_times_table_lge"
      ],
      "execution_count": 38,
      "outputs": [
        {
          "output_type": "execute_result",
          "data": {
            "text/plain": [
              "array([   0,    5,   10, ..., 4990, 4995, 5000])"
            ]
          },
          "metadata": {},
          "execution_count": 38
        }
      ]
    },
    {
      "cell_type": "code",
      "metadata": {
        "id": "38tBFAzHFEfU",
        "colab": {
          "base_uri": "https://localhost:8080/"
        },
        "outputId": "a17f1f9a-d085-4a25-bc14-ba3cfc20cd06"
      },
      "source": [
        "%timeit five_times_table_lge + 5"
      ],
      "execution_count": 39,
      "outputs": [
        {
          "output_type": "stream",
          "name": "stdout",
          "text": [
            "The slowest run took 35.47 times longer than the fastest. This could mean that an intermediate result is being cached.\n",
            "1000000 loops, best of 5: 1.29 µs per loop\n"
          ]
        }
      ]
    },
    {
      "cell_type": "code",
      "metadata": {
        "id": "WSh-KqW1FEfV",
        "colab": {
          "base_uri": "https://localhost:8080/"
        },
        "outputId": "00b12330-93a5-43b7-e5b6-543b11cc2c8a"
      },
      "source": [
        "%timeit [e + 5 for e in fives_list]"
      ],
      "execution_count": 40,
      "outputs": [
        {
          "output_type": "stream",
          "name": "stdout",
          "text": [
            "100000 loops, best of 5: 6.16 µs per loop\n"
          ]
        }
      ]
    },
    {
      "cell_type": "markdown",
      "metadata": {
        "id": "smh7axQMFEfW"
      },
      "source": [
        "Boolean string operations can also be performed on ndarrays."
      ]
    },
    {
      "cell_type": "code",
      "metadata": {
        "id": "yGFUI1QXFEfW",
        "colab": {
          "base_uri": "https://localhost:8080/"
        },
        "outputId": "c353a24d-7f75-4d16-f71d-deadd6b69891"
      },
      "source": [
        "words = np.array([\"ten\", \"nine\", \"eight\", \"seven\", \"six\"])\n",
        "\n",
        "print(np.isin(words, 'e'))\n",
        "\n",
        "print(\"e\" in words)\n",
        "\n",
        "[\"e\" in word for word in words]"
      ],
      "execution_count": 71,
      "outputs": [
        {
          "output_type": "stream",
          "name": "stdout",
          "text": [
            "[False False False False False]\n",
            "False\n"
          ]
        },
        {
          "output_type": "execute_result",
          "data": {
            "text/plain": [
              "[True, True, True, True, False]"
            ]
          },
          "metadata": {},
          "execution_count": 71
        }
      ]
    },
    {
      "cell_type": "markdown",
      "metadata": {
        "id": "sF7M84vDFEfW"
      },
      "source": [
        "# Transpose"
      ]
    },
    {
      "cell_type": "code",
      "metadata": {
        "id": "RfU8slI7FEfX",
        "colab": {
          "base_uri": "https://localhost:8080/"
        },
        "outputId": "53f327f6-ad6d-44a4-9a00-b117f449ed25"
      },
      "source": [
        "people.shape = (2, 6)\n",
        "print(people, \"\\n\")\n",
        "print(people.T)"
      ],
      "execution_count": 72,
      "outputs": [
        {
          "output_type": "stream",
          "name": "stdout",
          "text": [
            "[[10  5  8 32 65 43]\n",
            " [32 18 26 60 55 65]] \n",
            "\n",
            "[[10 32]\n",
            " [ 5 18]\n",
            " [ 8 26]\n",
            " [32 60]\n",
            " [65 55]\n",
            " [43 65]]\n"
          ]
        }
      ]
    },
    {
      "cell_type": "markdown",
      "metadata": {
        "id": "0HrEHzb8FEfX"
      },
      "source": [
        "# Data Types"
      ]
    },
    {
      "cell_type": "markdown",
      "metadata": {
        "id": "oveu_xcaFEfY"
      },
      "source": [
        "ndarrays can only have one data type. If we want to obtain or change this, we use the `.dtype` attribute."
      ]
    },
    {
      "cell_type": "code",
      "metadata": {
        "id": "r8aNixM-FEfY",
        "colab": {
          "base_uri": "https://localhost:8080/"
        },
        "outputId": "cbbb4a32-9c5b-406f-fbb8-a6144153c13e"
      },
      "source": [
        "people.dtype"
      ],
      "execution_count": 44,
      "outputs": [
        {
          "output_type": "execute_result",
          "data": {
            "text/plain": [
              "dtype('int64')"
            ]
          },
          "metadata": {},
          "execution_count": 44
        }
      ]
    },
    {
      "cell_type": "markdown",
      "metadata": {
        "id": "czkJCtzhFEfY"
      },
      "source": [
        "What is the data type of the below ndarray?"
      ]
    },
    {
      "cell_type": "code",
      "metadata": {
        "id": "ThQknjOGFEfZ",
        "colab": {
          "base_uri": "https://localhost:8080/"
        },
        "outputId": "170f4fd9-a622-413e-9663-f78fcff9a38b"
      },
      "source": [
        "ages_with_strings = np.array([10, 5, 8, '32', '65', '43'])\n",
        "ages_with_strings"
      ],
      "execution_count": 45,
      "outputs": [
        {
          "output_type": "execute_result",
          "data": {
            "text/plain": [
              "array(['10', '5', '8', '32', '65', '43'], dtype='<U21')"
            ]
          },
          "metadata": {},
          "execution_count": 45
        }
      ]
    },
    {
      "cell_type": "markdown",
      "metadata": {
        "id": "MtIG-jxyFEfZ"
      },
      "source": [
        "What is the dtype of this array?"
      ]
    },
    {
      "cell_type": "code",
      "metadata": {
        "id": "P_vdboesFEfa",
        "colab": {
          "base_uri": "https://localhost:8080/"
        },
        "outputId": "c2949e5b-6a75-4994-9e06-9a1ce06199b9"
      },
      "source": [
        "ages_with_strings = np.array([10, 5, 8, '32', '65', '43'], dtype='int32')\n",
        "ages_with_strings"
      ],
      "execution_count": 46,
      "outputs": [
        {
          "output_type": "execute_result",
          "data": {
            "text/plain": [
              "array([10,  5,  8, 32, 65, 43], dtype=int32)"
            ]
          },
          "metadata": {},
          "execution_count": 46
        }
      ]
    },
    {
      "cell_type": "markdown",
      "metadata": {
        "id": "4pUI16aeFEfa"
      },
      "source": [
        "Create a NumPy array"
      ]
    },
    {
      "cell_type": "code",
      "metadata": {
        "id": "-urlcVeSFEfb",
        "colab": {
          "base_uri": "https://localhost:8080/"
        },
        "outputId": "5ed35023-92d7-481b-cd7c-473000e60141"
      },
      "source": [
        "ages_with_strings = np.array([10, 5, 8, '32', '65', '43'])\n",
        "print(ages_with_strings) "
      ],
      "execution_count": 47,
      "outputs": [
        {
          "output_type": "stream",
          "name": "stdout",
          "text": [
            "['10' '5' '8' '32' '65' '43']\n"
          ]
        }
      ]
    },
    {
      "cell_type": "code",
      "metadata": {
        "id": "Ple4QX2sFEfc",
        "colab": {
          "base_uri": "https://localhost:8080/"
        },
        "outputId": "139156e1-62b9-4a5d-aae2-9fec133e0a53"
      },
      "source": [
        "ages_with_strings.dtype = 'int32'\n",
        "print(ages_with_strings)"
      ],
      "execution_count": 78,
      "outputs": [
        {
          "output_type": "stream",
          "name": "stdout",
          "text": [
            "[49 48  0  0  0  0  0  0  0  0  0  0  0  0  0  0  0  0  0  0  0 53  0  0\n",
            "  0  0  0  0  0  0  0  0  0  0  0  0  0  0  0  0  0  0 56  0  0  0  0  0\n",
            "  0  0  0  0  0  0  0  0  0  0  0  0  0  0  0 51 50  0  0  0  0  0  0  0\n",
            "  0  0  0  0  0  0  0  0  0  0  0  0 54 53  0  0  0  0  0  0  0  0  0  0\n",
            "  0  0  0  0  0  0  0  0  0 52 51  0  0  0  0  0  0  0  0  0  0  0  0  0\n",
            "  0  0  0  0  0  0]\n"
          ]
        }
      ]
    },
    {
      "cell_type": "code",
      "metadata": {
        "id": "TVd0_pb5FEfc",
        "colab": {
          "base_uri": "https://localhost:8080/"
        },
        "outputId": "3d6485ca-ce32-40df-dc0c-76025032444d"
      },
      "source": [
        "ages_with_strings.size"
      ],
      "execution_count": 74,
      "outputs": [
        {
          "output_type": "execute_result",
          "data": {
            "text/plain": [
              "6"
            ]
          },
          "metadata": {},
          "execution_count": 74
        }
      ]
    },
    {
      "cell_type": "code",
      "metadata": {
        "id": "OoT-O25SFEfd",
        "colab": {
          "base_uri": "https://localhost:8080/"
        },
        "outputId": "13929a3c-8656-4387-bd7b-b8f1ef2cd6c4"
      },
      "source": [
        "ages_with_strings.size/21"
      ],
      "execution_count": 73,
      "outputs": [
        {
          "output_type": "execute_result",
          "data": {
            "text/plain": [
              "0.2857142857142857"
            ]
          },
          "metadata": {},
          "execution_count": 73
        }
      ]
    },
    {
      "cell_type": "code",
      "metadata": {
        "id": "62UUrCb9FEfd",
        "colab": {
          "base_uri": "https://localhost:8080/"
        },
        "outputId": "19db1cce-37ec-429c-a01d-783bdda7ede1"
      },
      "source": [
        "np.array([10, 5, 8, '32', '65', '43']).size"
      ],
      "execution_count": 75,
      "outputs": [
        {
          "output_type": "execute_result",
          "data": {
            "text/plain": [
              "6"
            ]
          },
          "metadata": {},
          "execution_count": 75
        }
      ]
    },
    {
      "cell_type": "markdown",
      "metadata": {
        "id": "9nwNz7qMFEfd"
      },
      "source": [
        "The correct way to have changed the data type of the ndarray would have been to use the `.astype()` method, demonstrated below."
      ]
    },
    {
      "cell_type": "code",
      "metadata": {
        "id": "8uRzzy4CFEfe",
        "colab": {
          "base_uri": "https://localhost:8080/"
        },
        "outputId": "3c040962-f920-4d87-aff8-4a8eef57eda2"
      },
      "source": [
        "ages_with_strings = np.array([10, 5, 8, '32', '65', '43'])\n",
        "print(ages_with_strings)\n",
        "print(ages_with_strings.astype('int32'))"
      ],
      "execution_count": 76,
      "outputs": [
        {
          "output_type": "stream",
          "name": "stdout",
          "text": [
            "['10' '5' '8' '32' '65' '43']\n",
            "[10  5  8 32 65 43]\n"
          ]
        }
      ]
    },
    {
      "cell_type": "markdown",
      "metadata": {
        "id": "S9EX1AZcFEff"
      },
      "source": [
        "## Array Slicing Operations"
      ]
    },
    {
      "cell_type": "markdown",
      "metadata": {
        "id": "8MQr36HaFEfg"
      },
      "source": [
        "As before, we can use square brackets and indices to access individual values, and the colon operator to slice the array."
      ]
    },
    {
      "cell_type": "code",
      "metadata": {
        "id": "i2u-37MAFEfg",
        "colab": {
          "base_uri": "https://localhost:8080/"
        },
        "outputId": "fe5f0b5e-00b8-45e2-c87f-2572b9d91acc"
      },
      "source": [
        "five_times_table"
      ],
      "execution_count": 52,
      "outputs": [
        {
          "output_type": "execute_result",
          "data": {
            "text/plain": [
              "array([ 0,  5, 10, 15, 20, 25, 30, 35, 40, 45, 50])"
            ]
          },
          "metadata": {},
          "execution_count": 52
        }
      ]
    },
    {
      "cell_type": "code",
      "metadata": {
        "id": "E-u49lM2FEfh",
        "colab": {
          "base_uri": "https://localhost:8080/"
        },
        "outputId": "ef7dcdb9-546a-4155-8059-33e80ba7f26d"
      },
      "source": [
        "five_times_table[0]"
      ],
      "execution_count": 53,
      "outputs": [
        {
          "output_type": "execute_result",
          "data": {
            "text/plain": [
              "0"
            ]
          },
          "metadata": {},
          "execution_count": 53
        }
      ]
    },
    {
      "cell_type": "code",
      "metadata": {
        "scrolled": true,
        "id": "pbW94uDdFEfh",
        "colab": {
          "base_uri": "https://localhost:8080/"
        },
        "outputId": "9a44ede2-af95-4cea-f6d1-0adf24430af0"
      },
      "source": [
        "five_times_table[-1]"
      ],
      "execution_count": 54,
      "outputs": [
        {
          "output_type": "execute_result",
          "data": {
            "text/plain": [
              "50"
            ]
          },
          "metadata": {},
          "execution_count": 54
        }
      ]
    },
    {
      "cell_type": "code",
      "metadata": {
        "id": "kckfSD3_FEfh",
        "colab": {
          "base_uri": "https://localhost:8080/"
        },
        "outputId": "6f76093e-7f7d-45e1-c885-a7044783a910"
      },
      "source": [
        "five_times_table[:4]"
      ],
      "execution_count": 55,
      "outputs": [
        {
          "output_type": "execute_result",
          "data": {
            "text/plain": [
              "array([ 0,  5, 10, 15])"
            ]
          },
          "metadata": {},
          "execution_count": 55
        }
      ]
    },
    {
      "cell_type": "code",
      "metadata": {
        "id": "9DucKVcZFEfi",
        "colab": {
          "base_uri": "https://localhost:8080/"
        },
        "outputId": "dc758edc-9ca9-4d4a-a5fb-8a618062c42d"
      },
      "source": [
        "five_times_table[4:]"
      ],
      "execution_count": 56,
      "outputs": [
        {
          "output_type": "execute_result",
          "data": {
            "text/plain": [
              "array([20, 25, 30, 35, 40, 45, 50])"
            ]
          },
          "metadata": {},
          "execution_count": 56
        }
      ]
    },
    {
      "cell_type": "markdown",
      "metadata": {
        "id": "FAQ3aDWHFEfi"
      },
      "source": [
        "We can also slice an n-dim ndarray., specifying the slice operation accross each axis."
      ]
    },
    {
      "cell_type": "code",
      "metadata": {
        "id": "_q-M3DIeFEfi",
        "colab": {
          "base_uri": "https://localhost:8080/"
        },
        "outputId": "d64a3964-c727-48cf-af81-6dbb6c65ab26"
      },
      "source": [
        "print(people)\n",
        "people[:3, :3]"
      ],
      "execution_count": 57,
      "outputs": [
        {
          "output_type": "stream",
          "name": "stdout",
          "text": [
            "[[10  5  8 32 65 43]\n",
            " [32 18 26 60 55 65]]\n"
          ]
        },
        {
          "output_type": "execute_result",
          "data": {
            "text/plain": [
              "array([[10,  5,  8],\n",
              "       [32, 18, 26]])"
            ]
          },
          "metadata": {},
          "execution_count": 57
        }
      ]
    },
    {
      "cell_type": "markdown",
      "metadata": {
        "id": "vauaWn-aFEfj"
      },
      "source": [
        "We can reverse an array by using `.flip()` or by using the `::` operator."
      ]
    },
    {
      "cell_type": "code",
      "metadata": {
        "id": "kh3WWv7nFEfj",
        "colab": {
          "base_uri": "https://localhost:8080/"
        },
        "outputId": "3466e822-f99e-473c-f850-acdc0180093f"
      },
      "source": [
        "reverse_five_times_table = np.flip(five_times_table)\n",
        "reverse_five_times_table"
      ],
      "execution_count": 61,
      "outputs": [
        {
          "output_type": "execute_result",
          "data": {
            "text/plain": [
              "array([50, 45, 40, 35, 30, 25, 20, 15, 10,  5,  0])"
            ]
          },
          "metadata": {},
          "execution_count": 61
        }
      ]
    },
    {
      "cell_type": "code",
      "metadata": {
        "id": "YLtfxWXZFEfk",
        "colab": {
          "base_uri": "https://localhost:8080/"
        },
        "outputId": "39faba3b-c189-4111-f7bc-8216f5719c06"
      },
      "source": [
        "reverse_five_times_table = five_times_table[-1::-1]\n",
        "print(reverse_five_times_table)\n",
        "five_times_table"
      ],
      "execution_count": 62,
      "outputs": [
        {
          "output_type": "stream",
          "name": "stdout",
          "text": [
            "[50 45 40 35 30 25 20 15 10  5  0]\n"
          ]
        },
        {
          "output_type": "execute_result",
          "data": {
            "text/plain": [
              "array([ 0,  5, 10, 15, 20, 25, 30, 35, 40, 45, 50])"
            ]
          },
          "metadata": {},
          "execution_count": 62
        }
      ]
    },
    {
      "cell_type": "markdown",
      "metadata": {
        "id": "3LBEjaH8FEfk"
      },
      "source": [
        "We can also use the `::` operator to select steps of the original array."
      ]
    },
    {
      "cell_type": "code",
      "metadata": {
        "id": "XHXvyVasFEfk",
        "colab": {
          "base_uri": "https://localhost:8080/"
        },
        "outputId": "a85de9a2-1614-4fd5-af79-201ec8a36d4d"
      },
      "source": [
        "five_times_table[0::3] #Every 3rd element starting from 0"
      ],
      "execution_count": 63,
      "outputs": [
        {
          "output_type": "execute_result",
          "data": {
            "text/plain": [
              "array([ 0, 15, 30, 45])"
            ]
          },
          "metadata": {},
          "execution_count": 63
        }
      ]
    },
    {
      "cell_type": "markdown",
      "metadata": {
        "id": "obq2_oOrFEfl"
      },
      "source": [
        "# Stats"
      ]
    },
    {
      "cell_type": "code",
      "metadata": {
        "id": "bPdg5NpYFEfl",
        "colab": {
          "base_uri": "https://localhost:8080/"
        },
        "outputId": "ea15612d-846d-472f-8a15-f47c4523bc9d"
      },
      "source": [
        "np.array([1.65432, 5.98765]).round(2)"
      ],
      "execution_count": 82,
      "outputs": [
        {
          "output_type": "execute_result",
          "data": {
            "text/plain": [
              "array([1.65, 5.99])"
            ]
          },
          "metadata": {},
          "execution_count": 82
        }
      ]
    },
    {
      "cell_type": "code",
      "metadata": {
        "id": "lZ7Bs-ecFEfm",
        "colab": {
          "base_uri": "https://localhost:8080/"
        },
        "outputId": "f10990dc-b0e1-46c5-e94d-ce546cdfb715"
      },
      "source": [
        "nums = np.arange(0, 4, 0.2555)\n",
        "print(nums)"
      ],
      "execution_count": 84,
      "outputs": [
        {
          "output_type": "stream",
          "name": "stdout",
          "text": [
            "[0.     0.2555 0.511  0.7665 1.022  1.2775 1.533  1.7885 2.044  2.2995\n",
            " 2.555  2.8105 3.066  3.3215 3.577  3.8325]\n"
          ]
        }
      ]
    },
    {
      "cell_type": "markdown",
      "metadata": {
        "id": "eWlo7adMFEfm"
      },
      "source": [
        "\n",
        "* Compute min, max, sum, mean, median, variance, and standard deviation of the above array, all to to 2 decimal places."
      ]
    },
    {
      "cell_type": "code",
      "metadata": {
        "id": "jBuj6BOiFEfm",
        "colab": {
          "base_uri": "https://localhost:8080/"
        },
        "outputId": "b0898149-451a-4fb6-abcf-3965568dbff7"
      },
      "source": [
        "print(\"min = \", np.min(nums).round(2))\n",
        "print(\"max = \", np.max(nums).round(2))\n",
        "print(\"sum = \", np.sum(nums).round(2))\n",
        "print(\"mean = \", np.mean(nums).round(2))\n",
        "print(\"median = \", np.median(nums).round(2))\n",
        "print(\"var = \", np.var(nums).round(2))\n",
        "print(\"std = \", np.std(nums).round(2))"
      ],
      "execution_count": 85,
      "outputs": [
        {
          "output_type": "stream",
          "name": "stdout",
          "text": [
            "min =  0.0\n",
            "max =  3.83\n",
            "sum =  30.66\n",
            "mean =  1.92\n",
            "median =  1.92\n",
            "var =  1.39\n",
            "std =  1.18\n"
          ]
        }
      ]
    },
    {
      "cell_type": "markdown",
      "metadata": {
        "id": "EP7DuwB2FEfm"
      },
      "source": [
        "## Random"
      ]
    },
    {
      "cell_type": "markdown",
      "metadata": {
        "id": "bYE4Wl8AFEfn"
      },
      "source": [
        "With `np.random`, we can generate a number of types of dataset, and create training data.\n",
        "\n",
        "The below code simulates a fair coin toss."
      ]
    },
    {
      "cell_type": "code",
      "metadata": {
        "id": "wfYIQjYwFEfn",
        "colab": {
          "base_uri": "https://localhost:8080/"
        },
        "outputId": "a4a9d356-69ec-4e34-9fb1-fefe364542bf"
      },
      "source": [
        "flip = np.random.choice([0,1], 100)\n",
        "flip"
      ],
      "execution_count": 90,
      "outputs": [
        {
          "output_type": "execute_result",
          "data": {
            "text/plain": [
              "array([0, 1, 1, 0, 0, 1, 0, 0, 0, 1, 1, 0, 0, 0, 0, 1, 0, 0, 0, 0, 1, 1,\n",
              "       1, 0, 1, 0, 0, 0, 0, 1, 0, 0, 1, 0, 0, 1, 1, 1, 1, 0, 0, 0, 1, 0,\n",
              "       0, 0, 1, 1, 1, 1, 1, 0, 0, 0, 0, 0, 0, 0, 1, 1, 0, 0, 1, 1, 0, 0,\n",
              "       0, 0, 0, 1, 1, 0, 0, 1, 0, 1, 0, 1, 0, 0, 0, 0, 1, 1, 1, 1, 0, 1,\n",
              "       1, 0, 1, 0, 0, 1, 1, 0, 0, 0, 1, 1])"
            ]
          },
          "metadata": {},
          "execution_count": 90
        }
      ]
    },
    {
      "cell_type": "code",
      "metadata": {
        "id": "fVkkVcAPFEfn",
        "colab": {
          "base_uri": "https://localhost:8080/"
        },
        "outputId": "f1114200-c331-4c7f-e330-6d5d81b467ce"
      },
      "source": [
        "np.random.rand(10,20,9)"
      ],
      "execution_count": 93,
      "outputs": [
        {
          "output_type": "execute_result",
          "data": {
            "text/plain": [
              "array([[[0.82577028, 0.03976829, 0.43832254, ..., 0.36227283,\n",
              "         0.27335476, 0.79829335],\n",
              "        [0.17181976, 0.32669245, 0.00136324, ..., 0.52273233,\n",
              "         0.24495187, 0.74556949],\n",
              "        [0.74428664, 0.47499167, 0.26004175, ..., 0.12959432,\n",
              "         0.59577386, 0.90405703],\n",
              "        ...,\n",
              "        [0.71846293, 0.33274618, 0.98897776, ..., 0.49793593,\n",
              "         0.30606363, 0.88952146],\n",
              "        [0.20406367, 0.01212815, 0.01216391, ..., 0.01035917,\n",
              "         0.05020097, 0.0535525 ],\n",
              "        [0.25306498, 0.2481001 , 0.27577351, ..., 0.08587644,\n",
              "         0.118761  , 0.51100054]],\n",
              "\n",
              "       [[0.97546669, 0.86190723, 0.97783458, ..., 0.31614495,\n",
              "         0.5149774 , 0.32322612],\n",
              "        [0.72781539, 0.5314489 , 0.14952463, ..., 0.76905253,\n",
              "         0.21679947, 0.78169221],\n",
              "        [0.89623021, 0.71811618, 0.49120889, ..., 0.00427484,\n",
              "         0.22953327, 0.48016881],\n",
              "        ...,\n",
              "        [0.83556257, 0.50137981, 0.64805565, ..., 0.56026422,\n",
              "         0.30026811, 0.21463185],\n",
              "        [0.07872618, 0.46795247, 0.35254274, ..., 0.78841645,\n",
              "         0.84873847, 0.28008267],\n",
              "        [0.22393521, 0.87071251, 0.53853841, ..., 0.28142244,\n",
              "         0.87816298, 0.46725251]],\n",
              "\n",
              "       [[0.03381638, 0.27793683, 0.44617224, ..., 0.68757946,\n",
              "         0.49687384, 0.50872533],\n",
              "        [0.80483251, 0.52162145, 0.38564762, ..., 0.16296095,\n",
              "         0.85856552, 0.52924506],\n",
              "        [0.68872347, 0.30118412, 0.7002407 , ..., 0.64923519,\n",
              "         0.5069046 , 0.74236911],\n",
              "        ...,\n",
              "        [0.96012678, 0.01522861, 0.79762231, ..., 0.82021991,\n",
              "         0.66881149, 0.2971181 ],\n",
              "        [0.42530234, 0.11834792, 0.05905962, ..., 0.42202967,\n",
              "         0.73983099, 0.8161865 ],\n",
              "        [0.66931127, 0.25142669, 0.63166993, ..., 0.11439117,\n",
              "         0.52494467, 0.23165087]],\n",
              "\n",
              "       ...,\n",
              "\n",
              "       [[0.64131073, 0.70051685, 0.58027507, ..., 0.97094769,\n",
              "         0.02980608, 0.66343538],\n",
              "        [0.01808368, 0.98283794, 0.5600802 , ..., 0.50160625,\n",
              "         0.64878383, 0.4872251 ],\n",
              "        [0.8142946 , 0.02458088, 0.91588347, ..., 0.68738457,\n",
              "         0.72735387, 0.89176733],\n",
              "        ...,\n",
              "        [0.89644902, 0.60419369, 0.93342316, ..., 0.830093  ,\n",
              "         0.87516784, 0.77681353],\n",
              "        [0.81038158, 0.78700937, 0.58798705, ..., 0.60372309,\n",
              "         0.35375464, 0.91218647],\n",
              "        [0.70919257, 0.92127278, 0.08048531, ..., 0.69807389,\n",
              "         0.98054021, 0.75022388]],\n",
              "\n",
              "       [[0.20499951, 0.70714503, 0.07548573, ..., 0.06530364,\n",
              "         0.17455682, 0.28558925],\n",
              "        [0.48636964, 0.71258649, 0.36653591, ..., 0.13732165,\n",
              "         0.31446066, 0.59698579],\n",
              "        [0.7196962 , 0.72229071, 0.91525236, ..., 0.86208811,\n",
              "         0.92460013, 0.34121061],\n",
              "        ...,\n",
              "        [0.85274462, 0.77251184, 0.92305375, ..., 0.02828011,\n",
              "         0.4131175 , 0.48833668],\n",
              "        [0.057725  , 0.82019406, 0.54271982, ..., 0.92917349,\n",
              "         0.08831885, 0.68586676],\n",
              "        [0.84688409, 0.00363347, 0.76966075, ..., 0.93408247,\n",
              "         0.47444745, 0.66752802]],\n",
              "\n",
              "       [[0.48155034, 0.42773583, 0.11784234, ..., 0.22593298,\n",
              "         0.21948021, 0.12830695],\n",
              "        [0.06740705, 0.56445145, 0.43231494, ..., 0.38048512,\n",
              "         0.91461586, 0.03811093],\n",
              "        [0.74800398, 0.17086975, 0.12934022, ..., 0.3938608 ,\n",
              "         0.28723725, 0.36586522],\n",
              "        ...,\n",
              "        [0.98215135, 0.73303448, 0.53945523, ..., 0.27494732,\n",
              "         0.97146083, 0.34232896],\n",
              "        [0.67349458, 0.13761356, 0.24605935, ..., 0.50168936,\n",
              "         0.73260531, 0.64955888],\n",
              "        [0.38345226, 0.79326785, 0.32139612, ..., 0.67506549,\n",
              "         0.57282752, 0.14737454]]])"
            ]
          },
          "metadata": {},
          "execution_count": 93
        }
      ]
    },
    {
      "cell_type": "markdown",
      "metadata": {
        "id": "u6zc1PWmFEfo"
      },
      "source": [
        "We can produce 100 datapoints of a normally distributed data set by using `np.random.normal()`"
      ]
    },
    {
      "cell_type": "code",
      "metadata": {
        "id": "hgOD9gP2FEfo",
        "colab": {
          "base_uri": "https://localhost:8080/"
        },
        "outputId": "13662077-5f20-4705-c069-9b702f30715a"
      },
      "source": [
        "mu, sigma = 0, 0.1 # mean and standard deviation\n",
        "s = np.random.normal(mu, sigma, 100)\n",
        "print(s)"
      ],
      "execution_count": 99,
      "outputs": [
        {
          "output_type": "stream",
          "name": "stdout",
          "text": [
            "[-0.05952461  0.28961714  0.30252547  0.00332994  0.02925113  0.15929293\n",
            "  0.16229036  0.02971709 -0.11534069  0.0303982   0.01457253 -0.10431609\n",
            " -0.07747337 -0.14158755  0.00487287  0.06825909  0.13026946  0.05720965\n",
            "  0.08436758  0.03185213 -0.09103042 -0.06340185  0.03670765  0.04164798\n",
            "  0.05504773  0.07539229  0.13577989  0.04454499  0.01529405 -0.04350655\n",
            "  0.05357871  0.01014693  0.04391702  0.25071228  0.15124785 -0.0249249\n",
            "  0.01831947 -0.11201721  0.08044832 -0.1164089   0.15556317 -0.20655942\n",
            " -0.08125051 -0.02349499  0.32330036  0.00157866 -0.08489568 -0.03753999\n",
            " -0.20235456 -0.07871391  0.21752369  0.16513723 -0.02021224  0.00428114\n",
            "  0.1201174   0.09063871 -0.01789995  0.07645302  0.18828781 -0.17574792\n",
            "  0.01681907  0.12018386 -0.11391327  0.04124623 -0.14200331 -0.02639008\n",
            "  0.06597591  0.08749058 -0.03748737 -0.06145118 -0.04091446 -0.01174503\n",
            "  0.01034949 -0.03886912 -0.10802505  0.15853083  0.04613511 -0.05057809\n",
            "  0.0040452  -0.00311491  0.10388931  0.10596132  0.0406076   0.26970343\n",
            " -0.02177683  0.08526776 -0.0548434   0.05613856  0.03179394  0.01874758\n",
            "  0.13291633 -0.01552629  0.01012745 -0.03929574  0.06725876  0.00269502\n",
            "  0.00699424  0.11468846  0.1206324  -0.0663948 ]\n"
          ]
        }
      ]
    }
  ]
}
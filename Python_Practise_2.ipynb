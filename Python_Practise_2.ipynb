{
  "nbformat": 4,
  "nbformat_minor": 0,
  "metadata": {
    "colab": {
      "name": "Python_Practise_2",
      "provenance": [],
      "collapsed_sections": [],
      "authorship_tag": "ABX9TyPFdIEzBosjQbhue9QYBJ86",
      "include_colab_link": true
    },
    "kernelspec": {
      "name": "python3",
      "display_name": "Python 3"
    },
    "language_info": {
      "name": "python"
    }
  },
  "cells": [
    {
      "cell_type": "markdown",
      "metadata": {
        "id": "view-in-github",
        "colab_type": "text"
      },
      "source": [
        "<a href=\"https://colab.research.google.com/github/JD950/Python_notebook/blob/main/Python_Practise_2.ipynb\" target=\"_parent\"><img src=\"https://colab.research.google.com/assets/colab-badge.svg\" alt=\"Open In Colab\"/></a>"
      ]
    },
    {
      "cell_type": "markdown",
      "metadata": {
        "id": "z2NKp2pH58tm"
      },
      "source": [
        "1) Simple multiplication \n",
        "\n",
        "\n"
      ]
    },
    {
      "cell_type": "code",
      "metadata": {
        "id": "ozWN8EaF5lGA"
      },
      "source": [
        "def multiply(i, x):\n",
        "    return i * x\n",
        "    \n",
        "multiply(4, 2)\n"
      ],
      "execution_count": null,
      "outputs": []
    },
    {
      "cell_type": "markdown",
      "metadata": {
        "id": "8pdz6L_ofl5o"
      },
      "source": [
        "2) Finds the complementary strand of DNA /  A=T ; C=G  / E.G., ATTGCGGGG = TAACGCCCC"
      ]
    },
    {
      "cell_type": "code",
      "metadata": {
        "id": "dbzvjbMwbPO4"
      },
      "source": [
        "def DNA_sequence(dna):\n",
        "    complementary_strand= \"\"\n",
        "    for i in dna:\n",
        "        if i == 'A' or i== 'a':\n",
        "            complementary_strand += 'T'\n",
        "        elif i == 'T' or i== 't':\n",
        "             complementary_strand += 'A'\n",
        "        elif i == 'C' or i== 'c':\n",
        "            complementary_strand += 'G'\n",
        "        elif i == 'G' or i== 'g':\n",
        "            complementary_strand += 'C'  \n",
        "        else:\n",
        "            complementary_strand += ''\n",
        "    return(complementary_strand)\n",
        "\n",
        "DNA_sequence(input(\"Insert DNA sequence here: \"))"
      ],
      "execution_count": null,
      "outputs": []
    },
    {
      "cell_type": "markdown",
      "metadata": {
        "id": "-OZvu96bnpwW"
      },
      "source": [
        "3) Same as question 1, but this time I have used a dictionary  #only accepts uppercase letters\n"
      ]
    },
    {
      "cell_type": "code",
      "metadata": {
        "id": "v9-j921uh55u"
      },
      "source": [
        "def DNA_sequence(dna):\n",
        "    strand= { \"A\":\"T\", \"T\":\"A\", \"C\":\"G\", \"G\":\"C\"}\n",
        "\n",
        "    return \"\".join([strand[i] for i in dna])\n",
        "    \n",
        "DNA_sequence(\"ATTGCGGGG\")\n"
      ],
      "execution_count": null,
      "outputs": []
    },
    {
      "cell_type": "markdown",
      "metadata": {
        "id": "jM7Ys2YWqe08"
      },
      "source": [
        "4) Returns letters that contains only 4 words\n",
        "\n",
        "\n"
      ]
    },
    {
      "cell_type": "code",
      "metadata": {
        "id": "oIfU0TTnq8cu"
      },
      "source": [
        "def wordv(para1):\n",
        "  list2 = []\n",
        "  for i in para1.split(\" \"):\n",
        "    if len(i) == 4:\n",
        "      list2.append(i)\n",
        "  \n",
        "\n",
        "wordv=(\"Superman went up the hill to get a pint of strawberry juice for Luther\")\n",
        "print(list2)\n"
      ],
      "execution_count": null,
      "outputs": []
    },
    {
      "cell_type": "markdown",
      "metadata": {
        "id": "wkTWV7J3yGFP"
      },
      "source": [
        "5)  List Comprehension / Returns letters that contain more than 4 letters: "
      ]
    },
    {
      "cell_type": "code",
      "metadata": {
        "id": "Dm4Lnyzux9gd"
      },
      "source": [
        "wordv= \"Superman went up the hill to get a pint of strawberry juice for Luther\"\n",
        "  \n",
        "words= [ x for x in wordv.split(\" \") if len(x) > 4]\n",
        "\n",
        "\n",
        "print(words)\n"
      ],
      "execution_count": null,
      "outputs": []
    },
    {
      "cell_type": "markdown",
      "metadata": {
        "id": "C3u8jL2P724a"
      },
      "source": [
        "6)  Counts vowels "
      ]
    },
    {
      "cell_type": "code",
      "metadata": {
        "id": "5Sd1QEwn9ZSs"
      },
      "source": [
        "def get_vowels(sentence):\n",
        "    \n",
        "    c_vowels = 0\n",
        "    for i in sentence:\n",
        "        if i in \"aeiouAEIOU\":\n",
        "            c_vowels = c_vowels + 1\n",
        "\n",
        "    return c_vowels \n",
        "\n",
        "get_vowels(\"Superman went up the hill to get a pint of strawberry juice for Luther \")"
      ],
      "execution_count": null,
      "outputs": []
    },
    {
      "cell_type": "markdown",
      "metadata": {
        "id": "_eP6cu-a_-xI"
      },
      "source": [
        "7) List Comprehension / Counts vowels"
      ]
    },
    {
      "cell_type": "code",
      "metadata": {
        "id": "tr8gkY1B96xN"
      },
      "source": [
        "def get_vowels(sentence):\n",
        " return len([x for x in sentence if x in 'aeiouAEIOU'])\n",
        "\n",
        "get_vowels(\"Superman went up the hill to get a pint of strawberry juice for Luther \")"
      ],
      "execution_count": null,
      "outputs": []
    }
  ]
}
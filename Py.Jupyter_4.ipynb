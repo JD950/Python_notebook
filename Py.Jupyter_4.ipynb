{
 "cells": [
  {
   "cell_type": "markdown",
   "id": "a27a8b3a-7c50-4583-92c2-02fbe28ea946",
   "metadata": {},
   "source": [
    "Simualte tracking health data for a user, and provide them with a custom health warning message if there are any issues with their health data.\n"
   ]
  },
  {
   "cell_type": "code",
   "execution_count": 1,
   "id": "cee962ea-1a85-462d-ac1c-1caa68016ac0",
   "metadata": {},
   "outputs": [
    {
     "name": "stdin",
     "output_type": "stream",
     "text": [
      "BP? 100\n",
      "HR? 10\n"
     ]
    },
    {
     "name": "stdout",
     "output_type": "stream",
     "text": [
      "OK!\n"
     ]
    }
   ],
   "source": [
    "bp = float(input(\"BP?\"))\n",
    "hr = float(input(\"HR?\"))\n",
    "\n",
    "if (bp > 200) or (hr > 200):\n",
    "    print(\"WARNING\")\n",
    "elif (bp > 150) and (hr > 170):\n",
    "    print(\"WARNING\")\n",
    "elif (bp < 100) and (hr < 40):\n",
    "    print(\"WARNING\")\n",
    "else:\n",
    "    print(\"OK!\")\n"
   ]
  },
  {
   "cell_type": "code",
   "execution_count": 10,
   "id": "57609505-e98d-4db0-ba7d-afe5e387cb44",
   "metadata": {},
   "outputs": [
    {
     "name": "stdin",
     "output_type": "stream",
     "text": [
      "How do you feel?  sad\n"
     ]
    }
   ],
   "source": [
    "feeling = input(\"How do you feel? \")\n"
   ]
  },
  {
   "cell_type": "code",
   "execution_count": 11,
   "id": "f94709c9-af70-440b-99da-62a437d3bf0b",
   "metadata": {},
   "outputs": [
    {
     "name": "stdout",
     "output_type": "stream",
     "text": [
      "try some exercise!\n"
     ]
    }
   ],
   "source": [
    "if (\"sad\" in feeling) or (feeling.endswith(\"!?\")):\n",
    "    print(\"try some exercise!\")\n",
    "elif (\"happy\" in feeling) or (feeling.endswith(\"!\")):\n",
    "    print(\"try relaxing\")\n",
    "else:\n",
    "    print(\"not possible to offer advice\")"
   ]
  },
  {
   "cell_type": "markdown",
   "id": "5468f13f-f07b-4951-9c8b-91fab805025c",
   "metadata": {},
   "source": [
    "\n"
   ]
  },
  {
   "cell_type": "markdown",
   "id": "b42528c5-5daf-427d-b39f-07b4c99bcd65",
   "metadata": {},
   "source": [
    "Analysing Datasets with for\n"
   ]
  },
  {
   "cell_type": "markdown",
   "id": "f2139623-48e1-40e3-aa4c-83c00c72bbc6",
   "metadata": {},
   "source": [
    "When using a for loop you can only loop over one dataset.\n",
    "\n",
    "For reference:\n",
    "\n",
    "However, you can combine multiple datasets into one, using zip().\n",
    "\n",
    "looping over multiple collections --> zip()\n",
    "looping over a range of numbers --> range()\n",
    "looping over a collection and requring the index of each element --> enumerate()"
   ]
  },
  {
   "cell_type": "code",
   "execution_count": 12,
   "id": "cb46386e-88d2-4981-b954-3de8bd2eb544",
   "metadata": {},
   "outputs": [],
   "source": [
    "hrs = [60, 70, 80]\n",
    "bps = [100, 200, 250]"
   ]
  },
  {
   "cell_type": "code",
   "execution_count": 13,
   "id": "90d9d782-c530-4ca1-9ae0-9a6dc29af992",
   "metadata": {},
   "outputs": [
    {
     "data": {
      "text/plain": [
       "[(60, 100), (70, 200), (80, 250)]"
      ]
     },
     "execution_count": 13,
     "metadata": {},
     "output_type": "execute_result"
    }
   ],
   "source": [
    "bundled = list(zip(hrs, bps))\n",
    "bundled"
   ]
  },
  {
   "cell_type": "code",
   "execution_count": 14,
   "id": "76f6440c-d7dc-4631-9157-6a9b5043df90",
   "metadata": {},
   "outputs": [
    {
     "name": "stdout",
     "output_type": "stream",
     "text": [
      "60 100\n",
      "70 200\n",
      "80 250\n"
     ]
    }
   ],
   "source": [
    "for hr, bp in zip(hrs, bps):\n",
    "    print(hr, bp)"
   ]
  },
  {
   "cell_type": "markdown",
   "id": "0182cb42-b579-4f61-8cb8-a78c337baaf5",
   "metadata": {},
   "source": []
  },
  {
   "cell_type": "markdown",
   "id": "b5e6e63d-b99d-4d1d-9bf4-185abc356108",
   "metadata": {},
   "source": [
    "Can use zip() to loop over multiple lists at once."
   ]
  },
  {
   "cell_type": "code",
   "execution_count": 15,
   "id": "544f3782-b859-4836-8530-569414c1837c",
   "metadata": {},
   "outputs": [
    {
     "name": "stdout",
     "output_type": "stream",
     "text": [
      "We measured:  60 bpm\n",
      "We measured:  100 mmHg\n",
      "OK\n",
      "\n",
      "We measured:  70 bpm\n",
      "We measured:  200 mmHg\n",
      "OK\n",
      "\n",
      "We measured:  80 bpm\n",
      "We measured:  250 mmHg\n",
      "WARNING\n",
      "\n"
     ]
    }
   ],
   "source": [
    "for hr, bp in zip(hrs, bps):\n",
    "    print(\"We measured: \", hr, \"bpm\")\n",
    "    print(\"We measured: \", bp, \"mmHg\")\n",
    "    \n",
    "    if (hr > 200) or (bp > 200):\n",
    "        print(\"WARNING\")\n",
    "    else:\n",
    "        print(\"OK\")\n",
    "        \n",
    "    print() # prints an empty line"
   ]
  },
  {
   "cell_type": "markdown",
   "id": "3fc54be0-d78e-4305-8262-25e37116e181",
   "metadata": {},
   "source": []
  },
  {
   "cell_type": "markdown",
   "id": "d681cfe4-6815-4f4d-9b66-d2c705ca5fd9",
   "metadata": {},
   "source": [
    "Loop over a range of numbers?"
   ]
  },
  {
   "cell_type": "code",
   "execution_count": 16,
   "id": "682f8fae-01b2-4b58-87fa-b935470538c7",
   "metadata": {},
   "outputs": [
    {
     "data": {
      "text/plain": [
       "[0, 20, 40, 60, 80]"
      ]
     },
     "execution_count": 16,
     "metadata": {},
     "output_type": "execute_result"
    }
   ],
   "source": [
    "list(range(0, 100, 20))"
   ]
  },
  {
   "cell_type": "code",
   "execution_count": 17,
   "id": "87c2bcbc-4ed3-43ba-a5d5-da80a9cd75b1",
   "metadata": {},
   "outputs": [
    {
     "name": "stdout",
     "output_type": "stream",
     "text": [
      "0\n",
      "20\n",
      "40\n",
      "60\n",
      "80\n"
     ]
    }
   ],
   "source": [
    "for i in range(0, 100, 20):\n",
    "    print(i)"
   ]
  },
  {
   "cell_type": "code",
   "execution_count": null,
   "id": "e20c5f8b-e737-4013-9ac4-79073fd3d5a3",
   "metadata": {},
   "outputs": [],
   "source": []
  },
  {
   "cell_type": "markdown",
   "id": "307b8be6-c0d8-439e-bffc-e63635414460",
   "metadata": {},
   "source": [
    "Build a dataset from a range by appending in a loop:"
   ]
  },
  {
   "cell_type": "code",
   "execution_count": 18,
   "id": "ca56f517-7f83-4a02-b9e3-e3341227696c",
   "metadata": {},
   "outputs": [
    {
     "data": {
      "text/plain": [
       "[55.0, 64.0, 73.0, 82.0, 91.0, 100.0, 109.0, 118.0, 127.0, 136.0, 145.0, 154.0]"
      ]
     },
     "execution_count": 18,
     "metadata": {},
     "output_type": "execute_result"
    }
   ],
   "source": [
    "predicted_hr = []\n",
    "\n",
    "for hr in range(60, 180, 10):\n",
    "    predicted_hr.append(0.9 * hr + 1)\n",
    "    \n",
    "predicted_hr"
   ]
  },
  {
   "cell_type": "markdown",
   "id": "2126ff00-d022-489f-af81-69cf9e10d9ee",
   "metadata": {},
   "source": []
  },
  {
   "cell_type": "markdown",
   "id": "38cc9946-a05f-4562-b713-55c25deac09a",
   "metadata": {},
   "source": [
    "Loop with an index:\n"
   ]
  },
  {
   "cell_type": "code",
   "execution_count": 19,
   "id": "ba9a07d9-e43c-4276-8f9d-5348b7f6fec3",
   "metadata": {},
   "outputs": [],
   "source": [
    "hr_readings = [70,50,60,80]"
   ]
  },
  {
   "cell_type": "code",
   "execution_count": 20,
   "id": "b0fef944-f1ec-4b39-99fc-f57299f891d8",
   "metadata": {},
   "outputs": [
    {
     "name": "stdout",
     "output_type": "stream",
     "text": [
      "70\n",
      "50\n",
      "60\n",
      "80\n"
     ]
    }
   ],
   "source": [
    "for hr in hr_readings:\n",
    "    print(hr)"
   ]
  },
  {
   "cell_type": "code",
   "execution_count": 21,
   "id": "4c33af37-4cec-45b2-be78-01fa14725df9",
   "metadata": {},
   "outputs": [
    {
     "name": "stdout",
     "output_type": "stream",
     "text": [
      "Reading 1 was 70 bpm\n",
      "Reading 2 was 50 bpm\n",
      "Reading 3 was 60 bpm\n",
      "Reading 4 was 80 bpm\n"
     ]
    }
   ],
   "source": [
    "for i, hr in enumerate(hr_readings):\n",
    "    print(f\"Reading {i + 1} was {hr} bpm\")"
   ]
  },
  {
   "cell_type": "markdown",
   "id": "0554559c-81d2-4b67-b245-5497495f6d18",
   "metadata": {},
   "source": []
  },
  {
   "cell_type": "code",
   "execution_count": null,
   "id": "5be897e0-57c8-4b3e-8aa6-39a57610a957",
   "metadata": {},
   "outputs": [],
   "source": [
    "Conversions\n"
   ]
  },
  {
   "cell_type": "code",
   "execution_count": 22,
   "id": "fbeebd70-0589-4193-b351-4c118862f5b4",
   "metadata": {},
   "outputs": [
    {
     "name": "stdout",
     "output_type": "stream",
     "text": [
      "range(0, 10)\n"
     ]
    }
   ],
   "source": [
    "# iterators -- like data structures, but whole data not stored...\n",
    "\n",
    "ten = range(0, 10)\n",
    "\n",
    "print(ten)"
   ]
  },
  {
   "cell_type": "code",
   "execution_count": 24,
   "id": "dfdfe01a-87fb-4551-8a43-b8f062e3a8b4",
   "metadata": {},
   "outputs": [
    {
     "name": "stdout",
     "output_type": "stream",
     "text": [
      "0\n",
      "1\n",
      "2\n",
      "3\n",
      "4\n",
      "5\n",
      "6\n",
      "7\n",
      "8\n",
      "9\n"
     ]
    }
   ],
   "source": [
    "for i in ten:      # the range gives a number each go around\n",
    "    print(i)"
   ]
  },
  {
   "cell_type": "code",
   "execution_count": 23,
   "id": "b37d3163-c838-4c4e-a224-438c3bff5c36",
   "metadata": {},
   "outputs": [
    {
     "data": {
      "text/plain": [
       "[0, 1, 2, 3, 4, 5, 6, 7, 8, 9]"
      ]
     },
     "execution_count": 23,
     "metadata": {},
     "output_type": "execute_result"
    }
   ],
   "source": [
    "numbers = list(ten) # collects all data from ten into list, which stores all in memory\n",
    "\n",
    "numbers"
   ]
  },
  {
   "cell_type": "code",
   "execution_count": 26,
   "id": "2f0dc2d4-2124-49de-86e1-362c50d147c3",
   "metadata": {},
   "outputs": [
    {
     "data": {
      "text/plain": [
       "True"
      ]
     },
     "execution_count": 26,
     "metadata": {},
     "output_type": "execute_result"
    }
   ],
   "source": [
    "int(age) < 20"
   ]
  },
  {
   "cell_type": "code",
   "execution_count": 27,
   "id": "39803938-5628-421b-a00d-b39dc2557812",
   "metadata": {},
   "outputs": [
    {
     "data": {
      "text/plain": [
       "'55'"
      ]
     },
     "execution_count": 27,
     "metadata": {},
     "output_type": "execute_result"
    }
   ],
   "source": [
    "str(5) * 2  # \"5\" * 2"
   ]
  },
  {
   "cell_type": "code",
   "execution_count": 29,
   "id": "d1cd0b5e-bc5f-41b2-acfe-cfa205150bd7",
   "metadata": {},
   "outputs": [
    {
     "data": {
      "text/plain": [
       "{'name': 'Michael', 'age': 29}"
      ]
     },
     "execution_count": 29,
     "metadata": {},
     "output_type": "execute_result"
    }
   ],
   "source": [
    "dict( [ (\"name\", \"Michael\"), (\"age\", 29 )])"
   ]
  },
  {
   "cell_type": "code",
   "execution_count": null,
   "id": "1a50da10-c56d-46b0-8151-8a6f239d0d0d",
   "metadata": {},
   "outputs": [],
   "source": []
  }
 ],
 "metadata": {
  "kernelspec": {
   "display_name": "Python 3",
   "language": "python",
   "name": "python3"
  },
  "language_info": {
   "codemirror_mode": {
    "name": "ipython",
    "version": 3
   },
   "file_extension": ".py",
   "mimetype": "text/x-python",
   "name": "python",
   "nbconvert_exporter": "python",
   "pygments_lexer": "ipython3",
   "version": "3.7.8"
  }
 },
 "nbformat": 4,
 "nbformat_minor": 5
}

{
  "nbformat": 4,
  "nbformat_minor": 0,
  "metadata": {
    "colab": {
      "name": "Copy of SetTheory.ipynb",
      "provenance": [],
      "include_colab_link": true
    },
    "kernelspec": {
      "name": "python3",
      "display_name": "Python 3"
    },
    "language_info": {
      "name": "python"
    }
  },
  "cells": [
    {
      "cell_type": "markdown",
      "metadata": {
        "id": "view-in-github",
        "colab_type": "text"
      },
      "source": [
        "<a href=\"https://colab.research.google.com/github/JD950/Python_notebook/blob/main/BasicSetTheory_.ipynb\" target=\"_parent\"><img src=\"https://colab.research.google.com/assets/colab-badge.svg\" alt=\"Open In Colab\"/></a>"
      ]
    },
    {
      "cell_type": "code",
      "metadata": {
        "colab": {
          "base_uri": "https://localhost:8080/"
        },
        "id": "IhtEGaFcc862",
        "outputId": "dce6fa0b-9f88-409c-bc02-966bee205add"
      },
      "source": [
        "# [ ] -> square brackets MEAN LIST\n",
        "\n",
        "A = [1,5,7,9,13,1,5,7,9,13]\n",
        "B = [3,5,7,9,11,3,5,7,9,11]\n",
        "print(A)\n",
        "print(B)"
      ],
      "execution_count": 1,
      "outputs": [
        {
          "output_type": "stream",
          "name": "stdout",
          "text": [
            "[1, 5, 7, 9, 13, 1, 5, 7, 9, 13]\n",
            "[3, 5, 7, 9, 11, 3, 5, 7, 9, 11]\n"
          ]
        }
      ]
    },
    {
      "cell_type": "code",
      "metadata": {
        "id": "XGLkM65ndIlQ"
      },
      "source": [
        "# list fruits-> [banana, apple, banana] was valid!\n",
        "# in a set -> NO DUPLICATION is allowed, and NO Order is followed!\n",
        "# set(fruits)-> {banana,apple} or {apple,banana}\n",
        "# CURLY BRACES-> { }. a SET-> No DUPLICATION no ORDER\n",
        "\n"
      ],
      "execution_count": 2,
      "outputs": []
    },
    {
      "cell_type": "code",
      "metadata": {
        "id": "Z61SiDP4dgg5"
      },
      "source": [
        "setA = set(A)\n",
        "setB = set(B)\n"
      ],
      "execution_count": 3,
      "outputs": []
    },
    {
      "cell_type": "code",
      "metadata": {
        "colab": {
          "base_uri": "https://localhost:8080/"
        },
        "id": "zKTIttPKdjpQ",
        "outputId": "f362d72e-0486-4483-86b3-871511801cc3"
      },
      "source": [
        "setA"
      ],
      "execution_count": 4,
      "outputs": [
        {
          "output_type": "execute_result",
          "data": {
            "text/plain": [
              "{1, 5, 7, 9, 13}"
            ]
          },
          "metadata": {},
          "execution_count": 4
        }
      ]
    },
    {
      "cell_type": "code",
      "metadata": {
        "colab": {
          "base_uri": "https://localhost:8080/"
        },
        "id": "AvBiBZD-dkOr",
        "outputId": "e1dc4328-625f-499c-da86-3b32db7460bc"
      },
      "source": [
        "setB"
      ],
      "execution_count": 5,
      "outputs": [
        {
          "output_type": "execute_result",
          "data": {
            "text/plain": [
              "{3, 5, 7, 9, 11}"
            ]
          },
          "metadata": {},
          "execution_count": 5
        }
      ]
    },
    {
      "cell_type": "code",
      "metadata": {
        "colab": {
          "base_uri": "https://localhost:8080/"
        },
        "id": "F4nng5QRd1XY",
        "outputId": "daed37d7-bd2c-4c88-b69f-bd86e966860a"
      },
      "source": [
        "setC = {False, 0, 42, \"Pikachu\", \"Imotep\", \"Yokozuna\", 10, -3, False, True}\n",
        "setC\n",
        "# Deduplication -> FALSE which means 0 -> \n",
        "#so between 0 False and False -> 0 remains\n",
        "#so between False 0 and False -> False remains\n",
        "# First come, first served"
      ],
      "execution_count": 6,
      "outputs": [
        {
          "output_type": "execute_result",
          "data": {
            "text/plain": [
              "{-3, 10, 42, False, 'Imotep', 'Pikachu', True, 'Yokozuna'}"
            ]
          },
          "metadata": {},
          "execution_count": 6
        }
      ]
    },
    {
      "cell_type": "code",
      "metadata": {
        "colab": {
          "base_uri": "https://localhost:8080/"
        },
        "id": "ZF2K3OUzd1Uh",
        "outputId": "2b9ec000-db5f-44a3-e3bf-ec80bc5ca411"
      },
      "source": [
        "# Union-> combining two sets\n",
        "\n",
        "setA.union(setB)"
      ],
      "execution_count": 8,
      "outputs": [
        {
          "output_type": "execute_result",
          "data": {
            "text/plain": [
              "{1, 3, 5, 7, 9, 11, 13}"
            ]
          },
          "metadata": {},
          "execution_count": 8
        }
      ]
    }
  ]
}
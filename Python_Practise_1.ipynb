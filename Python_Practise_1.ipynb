{
  "nbformat": 4,
  "nbformat_minor": 0,
  "metadata": {
    "colab": {
      "name": "Python_Practise_1",
      "provenance": [],
      "collapsed_sections": [],
      "include_colab_link": true
    },
    "kernelspec": {
      "name": "python3",
      "display_name": "Python 3"
    },
    "language_info": {
      "name": "python"
    }
  },
  "cells": [
    {
      "cell_type": "markdown",
      "metadata": {
        "id": "view-in-github",
        "colab_type": "text"
      },
      "source": [
        "<a href=\"https://colab.research.google.com/github/JD950/ProjectsPortfolio/blob/main/Python_Practise_1.ipynb\" target=\"_parent\"><img src=\"https://colab.research.google.com/assets/colab-badge.svg\" alt=\"Open In Colab\"/></a>"
      ]
    },
    {
      "cell_type": "markdown",
      "metadata": {
        "id": "ksLYuEk47ijL"
      },
      "source": [
        "Takes a number and adds 1 to it e.g., input = 10 --> output = 11.\n",
        "\n"
      ]
    },
    {
      "cell_type": "code",
      "metadata": {
        "colab": {
          "base_uri": "https://localhost:8080/"
        },
        "id": "Ktvf3n3Zcohg",
        "outputId": "90439fe0-05b7-4df4-9f08-ac163e016c0a"
      },
      "source": [
        "list_in = [10,20,30,40,50]\n",
        "list_out = []\n",
        "\n",
        "for i in list_in:\n",
        "  newresult = i + 1\n",
        "  list_out.append(newresult)\n",
        "  print('****')\n",
        "  print(list_out)\n",
        "\n"
      ],
      "execution_count": null,
      "outputs": [
        {
          "output_type": "stream",
          "name": "stdout",
          "text": [
            "****\n",
            "[11]\n",
            "****\n",
            "[11, 21]\n",
            "****\n",
            "[11, 21, 31]\n",
            "****\n",
            "[11, 21, 31, 41]\n",
            "****\n",
            "[11, 21, 31, 41, 51]\n"
          ]
        }
      ]
    },
    {
      "cell_type": "markdown",
      "metadata": {
        "id": "arcYWPD59lUa"
      },
      "source": [
        "Multiplies a number by itself:\n",
        "\n",
        "\n",
        "\n",
        "\n"
      ]
    },
    {
      "cell_type": "code",
      "metadata": {
        "colab": {
          "base_uri": "https://localhost:8080/"
        },
        "id": "a8Uz59gLdI3Y",
        "outputId": "5d027dd4-f0b1-43ef-d564-6584f1117d3e"
      },
      "source": [
        "list = [1,2,3,4,5,6]\n",
        "result = []\n",
        "for b in list:\n",
        "  newresult = b*b\n",
        "  result.append(newresult)\n",
        "\n",
        "print(result)\n",
        "  "
      ],
      "execution_count": null,
      "outputs": [
        {
          "output_type": "stream",
          "name": "stdout",
          "text": [
            "[1, 4, 9, 16, 25, 36]\n"
          ]
        }
      ]
    },
    {
      "cell_type": "markdown",
      "metadata": {
        "id": "47uHCAZg-65L"
      },
      "source": [
        "Multiplies a number by itself; by using List COMPREHENSION\n",
        "\n"
      ]
    },
    {
      "cell_type": "code",
      "metadata": {
        "colab": {
          "base_uri": "https://localhost:8080/"
        },
        "id": "FJQNzCISe_xe",
        "outputId": "b2acc137-199b-4964-ab30-49bc9287f634"
      },
      "source": [
        "list= [1,2,3,4,5,6]\n",
        "\n",
        "\n",
        "result1 = [i+1 for i in list] #adds 1\n",
        "result2 = [i*i for i in list]\n",
        "print(result1)\n",
        "print(result2)"
      ],
      "execution_count": null,
      "outputs": [
        {
          "output_type": "stream",
          "name": "stdout",
          "text": [
            "[2, 3, 4, 5, 6, 7]\n",
            "[1, 4, 9, 16, 25, 36]\n"
          ]
        }
      ]
    },
    {
      "cell_type": "markdown",
      "metadata": {
        "id": "M4_6QIfVAnol"
      },
      "source": [
        "Finds the half of a number"
      ]
    },
    {
      "cell_type": "code",
      "metadata": {
        "colab": {
          "base_uri": "https://localhost:8080/"
        },
        "id": "MtsDBMZ_f7C-",
        "outputId": "61340858-1fa4-4f10-ac87-8f7826d3594d"
      },
      "source": [
        "mydata = [10,20,30,40,50]\n",
        "\n",
        "result = [int(element/2) for element in mydata]\n",
        "print(result)\n"
      ],
      "execution_count": null,
      "outputs": [
        {
          "output_type": "stream",
          "name": "stdout",
          "text": [
            "[5, 10, 15, 20, 25]\n"
          ]
        }
      ]
    },
    {
      "cell_type": "markdown",
      "metadata": {
        "id": "SR4_rh5yA82o"
      },
      "source": [
        "Converts a string list into a list\n"
      ]
    },
    {
      "cell_type": "code",
      "metadata": {
        "colab": {
          "base_uri": "https://localhost:8080/"
        },
        "id": "R3Qa2QwGg-h_",
        "outputId": "15d365dc-47e3-45ef-ae94-157f652a665f"
      },
      "source": [
        "string = \"Superman went up the hill to get a pint of orange juice\"\n",
        "out1 = []\n",
        "for word in string.split(\" \"):\n",
        "  out1.append(word)\n",
        "\n",
        "print(out1)\n",
        "\n",
        "print(out1[-2]) #string slicing"
      ],
      "execution_count": null,
      "outputs": [
        {
          "output_type": "stream",
          "name": "stdout",
          "text": [
            "['Superman', 'went', 'up', 'the', 'hill', 'to', 'get', 'a', 'pint', 'of', 'orange', 'juice']\n",
            "orange\n"
          ]
        }
      ]
    },
    {
      "cell_type": "markdown",
      "metadata": {
        "id": "Qh90eyS8Cft_"
      },
      "source": [
        "Find words that are even e.g. Data = 4 letters = even\n",
        "\n",
        "\n",
        "\n"
      ]
    },
    {
      "cell_type": "code",
      "metadata": {
        "colab": {
          "base_uri": "https://localhost:8080/"
        },
        "id": "ra4O3-Zakng9",
        "outputId": "0fa94959-48d0-454c-dfca-11f639f3ed01"
      },
      "source": [
        "string = \"Superman went up the hill to get a pint of orange juice\"\n",
        "even = []\n",
        "\n",
        "for word in string.split(\" \"):\n",
        "  lenght1 = len(word) \n",
        "  if(lenght1 % 2== 0):\n",
        "    even.append(word)\n",
        "\n",
        "print(even)"
      ],
      "execution_count": null,
      "outputs": [
        {
          "output_type": "stream",
          "name": "stdout",
          "text": [
            "['Superman', 'went', 'up', 'hill', 'to', 'pint', 'of', 'orange']\n"
          ]
        }
      ]
    },
    {
      "cell_type": "markdown",
      "metadata": {
        "id": "0bRH4sa5JnTZ"
      },
      "source": [
        "List comprehension / Find words that are odd and even e.g. the = 4 words = even "
      ]
    },
    {
      "cell_type": "code",
      "metadata": {
        "colab": {
          "base_uri": "https://localhost:8080/"
        },
        "id": "wkR4lxr5JkHp",
        "outputId": "8efc5319-2fa9-4b0d-e8c0-7d5fc513a320"
      },
      "source": [
        "string = \"Superman went up the hill to get a pint of orange juice\"\n",
        "\n",
        "even = [ i for i in string.split(\" \") if len(i)%2==0]\n",
        "odd = [ i for i in string.split(\" \") if len(i)%2==1]\n",
        "\n",
        "\n",
        "print(f\"Even: {even}\")\n",
        "print(f\" Odd: {odd}\")\n"
      ],
      "execution_count": null,
      "outputs": [
        {
          "output_type": "stream",
          "name": "stdout",
          "text": [
            "Even: ['Superman', 'went', 'up', 'hill', 'to', 'pint', 'of', 'orange']\n",
            " Odd: ['the', 'get', 'a', 'juice']\n"
          ]
        }
      ]
    },
    {
      "cell_type": "markdown",
      "metadata": {
        "id": "uJYLj7fZFP2W"
      },
      "source": [
        "\n",
        "Converting dollars to pounds but I have a list that contains both pounds and dollars.\n"
      ]
    },
    {
      "cell_type": "code",
      "metadata": {
        "colab": {
          "base_uri": "https://localhost:8080/"
        },
        "id": "70LMNSLtRJQB",
        "outputId": "5b6ab1b7-46a7-4972-a4ca-06fd4f449b2b"
      },
      "source": [
        "mix_list = [\"$30\", \"£40\",\"$30\", \"£40\",\"£30\", \"£40\"]\n",
        "# loop into all elements\n",
        "def dollar_to_pound(val):\n",
        "\n",
        "  val = int(val[1:])   # remove $ \n",
        "  exchange_rate = 0.74 #Friday, 19 November 2021\n",
        "  newvalue= int(val*exchange_rate)\n",
        "  return '£'+str(newvalue)\n",
        "  \n",
        "result = [ dollar_to_pound(element) if(element[0]=='$') else element for element in mix_list ]\n",
        "print(f\"Original list: {mix_list}\" )\n",
        "print(f\"Dollars to pounds: {result}\")"
      ],
      "execution_count": null,
      "outputs": [
        {
          "output_type": "stream",
          "name": "stdout",
          "text": [
            "Original list: ['$30', '£40', '$30', '£40', '£30', '£40']\n",
            "Dollars to pounds: ['£22', '£40', '£22', '£40', '£30', '£40']\n"
          ]
        }
      ]
    }
  ]
}
{
 "cells": [
  {
   "cell_type": "markdown",
   "id": "130f9996-324d-4757-b47b-20e3fe3c4e85",
   "metadata": {},
   "source": [
    "Data"
   ]
  },
  {
   "cell_type": "code",
   "execution_count": null,
   "id": "8842c7ac-d69e-4aa2-bac9-bb1579457ba5",
   "metadata": {},
   "outputs": [
    {
     "name": "stdout",
     "output_type": "stream",
     "text": [
      "5\n",
      "5.0\n",
      "3\n",
      "True\n",
      "['Dislikes', 'Haters', 'Needers']\n"
     ]
    }
   ],
   "source": [
    "print(5)\n",
    "print(5.0)\n",
    "print(\"3\")\n",
    "print(True)\n",
    "print([\"Dislikes\", \"Haters\", \"Needers\"])"
   ]
  },
  {
   "cell_type": "code",
   "execution_count": 3,
   "id": "70450c40-8cb8-471d-8560-7b1cb4ec7d01",
   "metadata": {},
   "outputs": [
    {
     "name": "stdout",
     "output_type": "stream",
     "text": [
      "<class 'int'>\n",
      "<class 'float'>\n",
      "<class 'str'>\n",
      "<class 'bool'>\n",
      "<class 'list'>\n"
     ]
    }
   ],
   "source": [
    "print(type(5))\n",
    "print(type(5.0))\n",
    "print(type(\"5\"))\n",
    "print(type(True))\n",
    "print(type([\"Dislikes\", \"Haters\", \"Needers\"]))"
   ]
  },
  {
   "cell_type": "markdown",
   "id": "da5fde90-0477-4850-a133-995139c11a43",
   "metadata": {},
   "source": []
  },
  {
   "cell_type": "markdown",
   "id": "bc233ad2-286c-4289-9125-20b70adb7e38",
   "metadata": {},
   "source": [
    "Variables\n"
   ]
  },
  {
   "cell_type": "code",
   "execution_count": null,
   "id": "70098eaa-7498-43e8-830d-1c7353e06554",
   "metadata": {},
   "outputs": [
    {
     "name": "stdout",
     "output_type": "stream",
     "text": [
      "Kofi 41 1.82\n",
      "['Artificial Intelligence', 'Gaming', 'Precision Medicine']\n",
      "True\n",
      "Kofi is 41 and 182.0 cm\n"
     ]
    }
   ],
   "source": [
    "name = 'Kofi'\n",
    "age = 41\n",
    "height = 1.82\n",
    "hobbies = [\"Artificial Intelligence\", \"Gaming\", \"Precision Medicine\"]\n",
    "is_alive = True\n",
    "\n",
    "fmesg = f\"{name} is {age} and {height * 100} cm\" # formatted string\n",
    "\n",
    "print(name, age, height)  # print with multiple args = spaced output\n",
    "print(hobbies)\n",
    "print(is_alive)\n",
    "\n",
    "\n",
    "print(fmesg)"
   ]
  },
  {
   "cell_type": "code",
   "execution_count": 5,
   "id": "38ae8c31-569b-4bed-a159-8856771d3375",
   "metadata": {},
   "outputs": [
    {
     "data": {
      "text/plain": [
       "42"
      ]
     },
     "execution_count": 5,
     "metadata": {},
     "output_type": "execute_result"
    }
   ],
   "source": [
    "age += 1\n",
    "\n",
    "age "
   ]
  },
  {
   "cell_type": "markdown",
   "id": "f0aae34f-b728-4890-b734-85936343caa0",
   "metadata": {},
   "source": []
  },
  {
   "cell_type": "markdown",
   "id": "3ab46abd-ddb4-472c-b98f-769db866b35c",
   "metadata": {},
   "source": [
    "Operations"
   ]
  },
  {
   "cell_type": "code",
   "execution_count": 6,
   "id": "65606eda-1214-4158-98e3-acef2fa1f4c1",
   "metadata": {},
   "outputs": [
    {
     "name": "stdout",
     "output_type": "stream",
     "text": [
      "Kofi Glover\n",
      "8\n",
      "---\n",
      "True\n",
      "False\n",
      "['Cake', 'Cream', 'Flour', 'Sugar']\n",
      "True\n"
     ]
    }
   ],
   "source": [
    "print( \"Kofi \" + \"Glover\")\n",
    "print( 2 ** 3 )    # 2 * 2 * 2 = 2^3\n",
    "print( \"-\" * 3 )\n",
    "print( \"@\" in \"kofi.glover@qa.com\")\n",
    "print( True and False )\n",
    "print( [\"Cake\", \"Cream\"] + [\"Flour\", \"Sugar\"] )\n",
    "print( 1.14 <=  2.13 )"
   ]
  },
  {
   "cell_type": "markdown",
   "id": "a2b567e1-670a-4e40-8a4e-6463576a9e7f",
   "metadata": {},
   "source": []
  },
  {
   "cell_type": "markdown",
   "id": "6f8deb91-3852-44cc-997e-da851314acb1",
   "metadata": {},
   "source": [
    "How do I compare data values?\n"
   ]
  },
  {
   "cell_type": "code",
   "execution_count": 18,
   "id": "66a2238a-b1f5-4d69-866a-509ed7274ab9",
   "metadata": {},
   "outputs": [],
   "source": [
    "michael_bp = 175\n",
    "alice_bp = 175\n",
    "eve_bp = 140"
   ]
  },
  {
   "cell_type": "markdown",
   "id": "109bf839-0c4b-4e47-a83b-8134eaa8351c",
   "metadata": {},
   "source": [
    "Equality"
   ]
  },
  {
   "cell_type": "code",
   "execution_count": 19,
   "id": "0da13da9-bc16-4bff-b4f6-957514fcd8a7",
   "metadata": {},
   "outputs": [
    {
     "data": {
      "text/plain": [
       "True"
      ]
     },
     "execution_count": 19,
     "metadata": {},
     "output_type": "execute_result"
    }
   ],
   "source": [
    "michael_bp == alice_bp\n"
   ]
  },
  {
   "cell_type": "markdown",
   "id": "9337df59-b843-4b23-aabd-c697eebcbda8",
   "metadata": {},
   "source": [
    "Inequality"
   ]
  },
  {
   "cell_type": "code",
   "execution_count": 20,
   "id": "b79498e9-239f-4c1b-b29f-aa993a4f031d",
   "metadata": {},
   "outputs": [
    {
     "data": {
      "text/plain": [
       "False"
      ]
     },
     "execution_count": 20,
     "metadata": {},
     "output_type": "execute_result"
    }
   ],
   "source": [
    "michael_bp != alice_bp\n"
   ]
  },
  {
   "cell_type": "code",
   "execution_count": 21,
   "id": "9167c849-3a5b-4308-b1fb-b7d092ac7e8c",
   "metadata": {},
   "outputs": [
    {
     "data": {
      "text/plain": [
       "True"
      ]
     },
     "execution_count": 21,
     "metadata": {},
     "output_type": "execute_result"
    }
   ],
   "source": [
    "michael_bp != eve_bp\n"
   ]
  },
  {
   "cell_type": "markdown",
   "id": "3764d7c9-b151-4f4d-99a5-baa7b4eb7d46",
   "metadata": {},
   "source": [
    "Greater than or equal to"
   ]
  },
  {
   "cell_type": "code",
   "execution_count": 22,
   "id": "6f7c989c-1c12-4396-91b5-7fd491a46e59",
   "metadata": {},
   "outputs": [
    {
     "data": {
      "text/plain": [
       "True"
      ]
     },
     "execution_count": 22,
     "metadata": {},
     "output_type": "execute_result"
    }
   ],
   "source": [
    "michael_bp >= eve_bp\n"
   ]
  },
  {
   "cell_type": "code",
   "execution_count": null,
   "id": "6656d94f-b49a-43fa-99f3-af2e66fecd83",
   "metadata": {},
   "outputs": [],
   "source": []
  },
  {
   "cell_type": "markdown",
   "id": "937709a8-0c69-45bf-8f10-e3a33fbef638",
   "metadata": {},
   "source": [
    "How do I logically combine comparisons?\n"
   ]
  },
  {
   "cell_type": "markdown",
   "id": "b3440749-6a1d-4bc0-a8da-6a20676183b5",
   "metadata": {},
   "source": [
    "Are both conditions true?\n",
    "\n"
   ]
  },
  {
   "cell_type": "code",
   "execution_count": 23,
   "id": "10e56c5d-f6b9-4e93-9536-534eda2fef6e",
   "metadata": {},
   "outputs": [],
   "source": [
    "message = \"WARNING: Too High!\"\n"
   ]
  },
  {
   "cell_type": "code",
   "execution_count": 24,
   "id": "dee6d9a7-bed8-42c7-aefa-fa73a98749bd",
   "metadata": {},
   "outputs": [
    {
     "data": {
      "text/plain": [
       "True"
      ]
     },
     "execution_count": 24,
     "metadata": {},
     "output_type": "execute_result"
    }
   ],
   "source": [
    "\n",
    "(\"WARNING\" in message) and (michael_bp >= eve_bp)\n"
   ]
  },
  {
   "cell_type": "code",
   "execution_count": 25,
   "id": "235e4783-9650-4434-b889-04384cbb6a15",
   "metadata": {},
   "outputs": [],
   "source": [
    "safe_max = 150\n",
    "safe_min = 80"
   ]
  },
  {
   "cell_type": "markdown",
   "id": "20f5cc0f-f6f3-430b-a25a-3328dc8cb00c",
   "metadata": {},
   "source": [
    "or\n",
    "Is either condition True ?"
   ]
  },
  {
   "cell_type": "code",
   "execution_count": 26,
   "id": "51644a3a-d486-4f76-8639-020dd3e8aa38",
   "metadata": {},
   "outputs": [
    {
     "data": {
      "text/plain": [
       "False"
      ]
     },
     "execution_count": 26,
     "metadata": {},
     "output_type": "execute_result"
    }
   ],
   "source": [
    "michael_bp < safe_max\n"
   ]
  },
  {
   "cell_type": "code",
   "execution_count": 27,
   "id": "73f84a91-a98d-404e-b0d7-f560ae8ba362",
   "metadata": {},
   "outputs": [
    {
     "data": {
      "text/plain": [
       "True"
      ]
     },
     "execution_count": 27,
     "metadata": {},
     "output_type": "execute_result"
    }
   ],
   "source": [
    "eve_bp < safe_max\n"
   ]
  },
  {
   "cell_type": "code",
   "execution_count": 28,
   "id": "28cfeaf2-872d-4190-8dfa-6f3b17ea52ea",
   "metadata": {},
   "outputs": [
    {
     "data": {
      "text/plain": [
       "True"
      ]
     },
     "execution_count": 28,
     "metadata": {},
     "output_type": "execute_result"
    }
   ],
   "source": [
    "(eve_bp < safe_max) or (michael_bp < safe_max)\n"
   ]
  },
  {
   "cell_type": "markdown",
   "id": "74ad4175-3dc5-4402-a337-537f90725790",
   "metadata": {},
   "source": [
    "not\n",
    "Isn't the condition True?"
   ]
  },
  {
   "cell_type": "code",
   "execution_count": 29,
   "id": "0d7efdd0-0b1d-4802-8288-6422778971da",
   "metadata": {},
   "outputs": [
    {
     "data": {
      "text/plain": [
       "False"
      ]
     },
     "execution_count": 29,
     "metadata": {},
     "output_type": "execute_result"
    }
   ],
   "source": [
    "not (\"WARNING\" in message)\n"
   ]
  },
  {
   "cell_type": "markdown",
   "id": "fdc3e20b-0187-4675-92b2-eb2403d39054",
   "metadata": {},
   "source": [
    "... sometimes python let's you place not in the middle of a condition because it reads better.."
   ]
  },
  {
   "cell_type": "code",
   "execution_count": 30,
   "id": "d295e11f-462c-41b8-bc20-2e634145e9aa",
   "metadata": {},
   "outputs": [
    {
     "data": {
      "text/plain": [
       "False"
      ]
     },
     "execution_count": 30,
     "metadata": {},
     "output_type": "execute_result"
    }
   ],
   "source": [
    "\"WARNING\" not in message\n"
   ]
  },
  {
   "cell_type": "markdown",
   "id": "ed665962-7f09-4f43-abb1-9aba7353e957",
   "metadata": {},
   "source": []
  },
  {
   "cell_type": "markdown",
   "id": "7d575058-5318-49a1-8723-d23541ae7c45",
   "metadata": {},
   "source": [
    "How do I use complex conditions to make decisions?\n"
   ]
  },
  {
   "cell_type": "code",
   "execution_count": 31,
   "id": "de70847c-623b-4528-a017-5de5f443a0a1",
   "metadata": {},
   "outputs": [
    {
     "name": "stdout",
     "output_type": "stream",
     "text": [
      "GO TO HOSPITAL\n"
     ]
    }
   ],
   "source": [
    "if (\"WARNING\" in message) and (michael_bp > safe_max):\n",
    "    print(\"GO TO HOSPITAL\")\n",
    "else:\n",
    "    print(\"STAY AT HOME\")"
   ]
  },
  {
   "cell_type": "markdown",
   "id": "44b42f7c-c871-49bb-bd6b-b8da8c360b94",
   "metadata": {},
   "source": [
    "Simple Functions\n",
    "output = fn(input)\n",
    "\n",
    "returnValue = procedure(requirements)\n",
    "\n",
    "makes a new value\n",
    "\n",
    "these are algorithms, not \"relationships between mathematical variables\""
   ]
  },
  {
   "cell_type": "code",
   "execution_count": 32,
   "id": "7ea8c379-5828-4b54-9fcc-9e994c24b72c",
   "metadata": {},
   "outputs": [
    {
     "name": "stdout",
     "output_type": "stream",
     "text": [
      "Kofi\n",
      "139809977213424\n",
      "<class 'str'>\n",
      "4\n"
     ]
    }
   ],
   "source": [
    "name = \"Kofi\"\n",
    "\n",
    "print(name)          # output the value of name\n",
    "print( id(name) )    # output the memory location of the value of name\n",
    "print( type(name) )  # output the type of the value of name\n",
    "print( len(name) )   # output the length of (the value of) name "
   ]
  },
  {
   "cell_type": "markdown",
   "id": "0d5f1023-1abe-44e7-969a-967c707d7653",
   "metadata": {},
   "source": []
  },
  {
   "cell_type": "markdown",
   "id": "5ad86e5a-a268-445d-921e-09b51c33020b",
   "metadata": {},
   "source": [
    "Objects"
   ]
  },
  {
   "cell_type": "code",
   "execution_count": 33,
   "id": "1298ea0b-ce6f-4282-84a4-41132d4b27bc",
   "metadata": {},
   "outputs": [
    {
     "name": "stdout",
     "output_type": "stream",
     "text": [
      "KOFI\n",
      "kofi\n",
      "True\n",
      "False\n"
     ]
    }
   ],
   "source": [
    "# data.operation(requirements)\n",
    "# obj.method(parameters)\n",
    "# ask name to upper() itself \n",
    "# ask name if it startswith(M)\n",
    "\n",
    "print( name.upper()  )\n",
    "print( name.lower()   )\n",
    "print( name.startswith(\"K\") )\n",
    "print( name.endswith(\"K\") )\n",
    "\n",
    "# all data in python is an object\n",
    "# objects are data structures:  values (properties), types (class), id, methods"
   ]
  },
  {
   "cell_type": "code",
   "execution_count": 71,
   "id": "fadb94fc-48d9-4c91-87ab-9377ecc96f0f",
   "metadata": {},
   "outputs": [
    {
     "data": {
      "text/plain": [
       "['swapcase', 'title', 'translate', 'upper', 'zfill']"
      ]
     },
     "execution_count": 71,
     "metadata": {},
     "output_type": "execute_result"
    }
   ],
   "source": [
    "dir(name)[-5:] # lists the last 5 attributes & methods of the object \n"
   ]
  },
  {
   "cell_type": "markdown",
   "id": "30d524d1-21b0-43cb-8cf2-9c4adf97445c",
   "metadata": {},
   "source": [
    "Example: Functions"
   ]
  },
  {
   "cell_type": "code",
   "execution_count": 38,
   "id": "de99aed9-82b1-419f-81ba-aa0f20e2c74b",
   "metadata": {},
   "outputs": [],
   "source": [
    "first_name = \"Monica\"\n",
    "age = 21\n",
    "location = \"Edinburgh\"\n"
   ]
  },
  {
   "cell_type": "code",
   "execution_count": 70,
   "id": "a0d579a0-eae9-4d93-907a-f5023d3672cf",
   "metadata": {},
   "outputs": [
    {
     "name": "stdout",
     "output_type": "stream",
     "text": [
      "MONICA\n",
      "True\n",
      "------\n"
     ]
    }
   ],
   "source": [
    "print( first_name.upper() )\n",
    "print( age > 18)\n",
    "print(('-' * len(first_name))) "
   ]
  },
  {
   "cell_type": "markdown",
   "id": "8cd7547f-4785-461d-ab0f-f4b4abc77a51",
   "metadata": {},
   "source": []
  },
  {
   "cell_type": "markdown",
   "id": "327098a4-0d27-4679-9179-6ea7fafc6734",
   "metadata": {},
   "source": [
    "Defining Functions\n"
   ]
  },
  {
   "cell_type": "code",
   "execution_count": 40,
   "id": "8c2887b2-a29f-4db0-bf90-37361de30ca3",
   "metadata": {},
   "outputs": [
    {
     "data": {
      "text/plain": [
       "0.0899999999999999"
      ]
     },
     "execution_count": 40,
     "metadata": {},
     "output_type": "execute_result"
    }
   ],
   "source": [
    "def error(pred, obv):\n",
    "    return (pred - obv) ** 2\n",
    "\n",
    "error(3, 3.3)"
   ]
  },
  {
   "cell_type": "markdown",
   "id": "c5f8ed80-6eed-4032-9289-a78457c31222",
   "metadata": {},
   "source": [
    "The following function can be used to predict a person's weight in kg:"
   ]
  },
  {
   "cell_type": "code",
   "execution_count": 41,
   "id": "2a81d257-4d2b-48c8-9139-b93f99c02029",
   "metadata": {},
   "outputs": [],
   "source": [
    "def predict(age, height, parameters=(0.5, 0.5, 0)):\n",
    "   \n",
    "    # reset the scales so each goes from 0 to 1\n",
    "    \n",
    "    age, height = age/100, height/200\n",
    "    \n",
    "    # extract the parameters for each variable\n",
    "    \n",
    "    a, h, w = parameters\n",
    "    \n",
    "    # predict a weight\n",
    "    \n",
    "    weight = 100 * (a * age + h * height + w)\n",
    "    \n",
    "    return round(weight, 2)"
   ]
  },
  {
   "cell_type": "code",
   "execution_count": 42,
   "id": "fa5be0bc-8eeb-444a-8e53-0e44fef0cc03",
   "metadata": {},
   "outputs": [
    {
     "name": "stdout",
     "output_type": "stream",
     "text": [
      "Help on function predict in module __main__:\n",
      "\n",
      "predict(age, height, parameters=(0.5, 0.5, 0))\n",
      "\n"
     ]
    }
   ],
   "source": [
    "help(predict)\n"
   ]
  },
  {
   "cell_type": "code",
   "execution_count": 43,
   "id": "ede68bdb-2c3d-455f-9e89-a57c5d38a43b",
   "metadata": {},
   "outputs": [
    {
     "data": {
      "text/plain": [
       "56.0"
      ]
     },
     "execution_count": 43,
     "metadata": {},
     "output_type": "execute_result"
    }
   ],
   "source": [
    "predict(10, 150, (0.6, 0.4, 0.2)) # pass arguments by position\n"
   ]
  },
  {
   "cell_type": "code",
   "execution_count": 44,
   "id": "8fc31ce9-c9d4-4672-bff4-b62e07f1bcdf",
   "metadata": {},
   "outputs": [
    {
     "data": {
      "text/plain": [
       "42.5"
      ]
     },
     "execution_count": 44,
     "metadata": {},
     "output_type": "execute_result"
    }
   ],
   "source": [
    "predict(10, 150) # pass arguments by position, one by default\n"
   ]
  },
  {
   "cell_type": "code",
   "execution_count": 45,
   "id": "6deea10a-af65-4123-a606-e5976b8588f1",
   "metadata": {},
   "outputs": [
    {
     "data": {
      "text/plain": [
       "60.5"
      ]
     },
     "execution_count": 45,
     "metadata": {},
     "output_type": "execute_result"
    }
   ],
   "source": [
    "predict(age=21, height=200) # pass by name\n"
   ]
  },
  {
   "cell_type": "code",
   "execution_count": 46,
   "id": "ee6f7783-06a7-44ff-ac88-7a604dec4fe5",
   "metadata": {},
   "outputs": [
    {
     "name": "stdout",
     "output_type": "stream",
     "text": [
      "----------\n",
      "[12, 12, 15]\n",
      "----------\n",
      "4.4\n",
      "----------\n",
      "[10, 12]\n",
      "----------\n",
      "<class 'NoneType'>\n",
      "None\n"
     ]
    }
   ],
   "source": [
    "# functions = procedures\n",
    "# can also not return anything\n",
    "\n",
    "def show_results(results):\n",
    "    print(\"-\" * 10)\n",
    "    print(results)\n",
    "    print(\"-\" * 10)\n",
    "    \n",
    "show_results([12, 12, 15])   # writes to screen, but has no return value\n",
    "\n",
    "def distance(x1, x2):\n",
    "    return (x2 - x1) ** 2   # euclidean distance, aka. L2 norm\n",
    "    \n",
    "\n",
    "dist = distance(10, 12)\n",
    "print(dist * 1.1)  # calculated value can be stored in variable\n",
    "\n",
    "\n",
    "rtn = show_results([10, 12])\n",
    "\n",
    "print(type(rtn))\n",
    "print(rtn) # nothing is stored here, no return value"
   ]
  },
  {
   "cell_type": "markdown",
   "id": "8a7ad06f-59a2-42a6-83a5-816e838aeb3d",
   "metadata": {},
   "source": []
  },
  {
   "cell_type": "markdown",
   "id": "2741a176-8fe8-4211-a87a-0688e599a05e",
   "metadata": {},
   "source": [
    "Finding the mean, cube of three variables:"
   ]
  },
  {
   "cell_type": "code",
   "execution_count": 47,
   "id": "91afd40b-42b6-4a29-b1c8-6d6fc6604b76",
   "metadata": {},
   "outputs": [
    {
     "name": "stdout",
     "output_type": "stream",
     "text": [
      "mean: 18.666666666666668\n",
      "cube: 8\n",
      "age: False\n"
     ]
    }
   ],
   "source": [
    "def mean(x, y, z):\n",
    "    return (x + y + z)/3 #three variables \n",
    "\n",
    "def cube(x):\n",
    "    return x ** 3\n",
    "\n",
    "def is_adult(age):\n",
    "    return age >= 18\n",
    "\n",
    "def show(m, c, a):\n",
    "    print(\"mean:\", m)\n",
    "    print(\"cube:\", c)\n",
    "    print(\"age:\", a)\n",
    "    \n",
    "mean_ages = mean(18,18, 20)\n",
    "two_late = cube(2)\n",
    "teen = is_adult(15)\n",
    "\n",
    "show(mean_ages, two_late, teen)\n"
   ]
  },
  {
   "cell_type": "markdown",
   "id": "629b1327-9a7b-4db8-b0d3-577bb87429e5",
   "metadata": {},
   "source": []
  },
  {
   "cell_type": "markdown",
   "id": "ca915751-f60f-42eb-9263-f685696205d2",
   "metadata": {},
   "source": [
    "Data Structures\n"
   ]
  },
  {
   "cell_type": "code",
   "execution_count": 48,
   "id": "cfe8d395-1133-4c3e-82ee-a279f131612a",
   "metadata": {},
   "outputs": [
    {
     "name": "stdout",
     "output_type": "stream",
     "text": [
      "B\n",
      "e\n",
      "d\n",
      "!\n"
     ]
    }
   ],
   "source": [
    "quote = \"Be the change you wish to see in the world!\"\n",
    "\n",
    "print( quote[0] )   # first\n",
    "print( quote[1] )   # second\n",
    "print( quote[-2] )  # second from last\n",
    "print( quote[-1] )  # last\n"
   ]
  },
  {
   "cell_type": "code",
   "execution_count": 49,
   "id": "4c35bc01-e2bf-4ea6-ae25-532a7c3adba7",
   "metadata": {},
   "outputs": [
    {
     "name": "stdout",
     "output_type": "stream",
     "text": [
      "Be\n"
     ]
    }
   ],
   "source": [
    "print( quote[0:2] )  # zero until postn-2\n"
   ]
  },
  {
   "cell_type": "code",
   "execution_count": 50,
   "id": "35dd43cf-e068-4093-9898-e80ac0bdf315",
   "metadata": {},
   "outputs": [
    {
     "name": "stdout",
     "output_type": "stream",
     "text": [
      "Be the change you wish to see in the \n"
     ]
    }
   ],
   "source": [
    "print( quote[0:-6] ) # beginning until -6th postn\n"
   ]
  },
  {
   "cell_type": "code",
   "execution_count": 51,
   "id": "b8025310-374a-4709-bcdd-7cd06a8d22c8",
   "metadata": {},
   "outputs": [
    {
     "name": "stdout",
     "output_type": "stream",
     "text": [
      "Be the change you wish to see in the  bed\n"
     ]
    }
   ],
   "source": [
    "print( quote[0:-6]  + \" bed\" )\n"
   ]
  },
  {
   "cell_type": "code",
   "execution_count": 52,
   "id": "9b7f53fb-26cc-4255-b23f-a30a69183d4d",
   "metadata": {},
   "outputs": [
    {
     "name": "stdout",
     "output_type": "stream",
     "text": [
      "Be\n",
      "world!\n",
      " change you wish to see in the world!\n"
     ]
    }
   ],
   "source": [
    "print(quote[:2])    # leave off start postn = zero\n",
    "print(quote[-6:] )  # leave off end postn = end of string\n",
    "print(quote[6:] )"
   ]
  },
  {
   "cell_type": "markdown",
   "id": "119e95e3-13c3-47cf-8f46-c92db0dc7727",
   "metadata": {},
   "source": []
  },
  {
   "cell_type": "code",
   "execution_count": 53,
   "id": "a56b1ccd-0b96-40a9-b79e-f320f104de2d",
   "metadata": {},
   "outputs": [
    {
     "name": "stdout",
     "output_type": "stream",
     "text": [
      "10\n",
      "20\n",
      "30\n",
      "(10, 20)\n",
      "('OldSt', 'London')\n"
     ]
    }
   ],
   "source": [
    "# tuple\n",
    "\n",
    "point = (10, 20, 30)\n",
    "\n",
    "print( point[0] )\n",
    "print( point[1] )\n",
    "print( point[-1] )\n",
    "\n",
    "print( point[0:2] ) #slice, as with strings\n",
    "\n",
    "# point[0] = 15 # error: not allowed to overwrite\n",
    "\n",
    "# technically, () not required...\n",
    "\n",
    "address = \"OldSt\", \"London\"\n",
    "\n",
    "print(address)"
   ]
  },
  {
   "cell_type": "code",
   "execution_count": 68,
   "id": "2c3eaa43-b161-4d34-a8df-39b2fb3078c5",
   "metadata": {},
   "outputs": [
    {
     "name": "stdout",
     "output_type": "stream",
     "text": [
      "[300, 1000, 'London', ('Old Street', 'London')]\n",
      "4\n",
      "('Old Street', 'London')\n",
      "2\n"
     ]
    }
   ],
   "source": [
    "# lists\n",
    "# y target customer satisfaction\n",
    "# x customer features \n",
    "# (days-since-first-purchase, total-spent, nearest-store, addresss)\n",
    "#  \n",
    "\n",
    "x = [300, 1000, \"London\", (\"Old Street\", \"London\")]\n",
    "\n",
    "print(x)\n",
    "print(len(x))\n",
    "\n",
    "print(x[-1])\n",
    "print(len(x[-1]))"
   ]
  },
  {
   "cell_type": "code",
   "execution_count": 56,
   "id": "6ba1b449-e8a0-4570-a5ae-43dab36718a4",
   "metadata": {},
   "outputs": [
    {
     "data": {
      "text/plain": [
       "[300, 1000, 'London', ('Old Street', 'London'), 1]"
      ]
     },
     "execution_count": 56,
     "metadata": {},
     "output_type": "execute_result"
    }
   ],
   "source": [
    "x.append(1)\n",
    "x"
   ]
  },
  {
   "cell_type": "code",
   "execution_count": 57,
   "id": "126e119e-5bf4-4027-92b0-d09607026a4c",
   "metadata": {},
   "outputs": [
    {
     "data": {
      "text/plain": [
       "1"
      ]
     },
     "execution_count": 57,
     "metadata": {},
     "output_type": "execute_result"
    }
   ],
   "source": [
    "x.pop()"
   ]
  },
  {
   "cell_type": "code",
   "execution_count": 58,
   "id": "e5b77052-2420-4b09-9b7c-f4ef1a5dfd2c",
   "metadata": {},
   "outputs": [
    {
     "name": "stdout",
     "output_type": "stream",
     "text": [
      "[300, 1000, 'London', ('Old Street', 'London')]\n",
      "[1, 300, 1000, 'London', ('Old Street', 'London')]\n"
     ]
    }
   ],
   "source": [
    "print(x)\n",
    "x.insert(0, 1) # insert at postn 0, the element 1\n",
    "\n",
    "print(x)"
   ]
  },
  {
   "cell_type": "markdown",
   "id": "3607f6cb-8950-42fd-a0fd-26ddfa06c2a0",
   "metadata": {},
   "source": []
  },
  {
   "cell_type": "markdown",
   "id": "f918af5a-66ae-4b09-a5b5-52efa7e9b2f8",
   "metadata": {},
   "source": [
    "Using Lists in Functions"
   ]
  },
  {
   "cell_type": "code",
   "execution_count": 59,
   "id": "5cbfa196-4815-4de9-8681-abaec5601601",
   "metadata": {},
   "outputs": [],
   "source": [
    "def error(y_pred, y, i):\n",
    "    return (y_pred - y[i]) ** 2"
   ]
  },
  {
   "cell_type": "code",
   "execution_count": 60,
   "id": "bd7d8016-fdf3-4797-8d8e-cdd46f2f12f4",
   "metadata": {},
   "outputs": [
    {
     "data": {
      "text/plain": [
       "0.6399999999999997"
      ]
     },
     "execution_count": 60,
     "metadata": {},
     "output_type": "execute_result"
    }
   ],
   "source": [
    "y = [2, 3, 5, 8]\n",
    "guess = 2.2\n",
    "\n",
    "error(guess, y, 1)   #   (2.2 - 3) ** 2"
   ]
  },
  {
   "cell_type": "markdown",
   "id": "35ae5ef9-ce44-47cd-be72-f9ab24aa2a93",
   "metadata": {},
   "source": []
  },
  {
   "cell_type": "markdown",
   "id": "759adf15-43b9-4478-9ef4-55910281765f",
   "metadata": {},
   "source": [
    "Dictionaries\n"
   ]
  },
  {
   "cell_type": "code",
   "execution_count": 61,
   "id": "97ff0457-57a4-46ff-8bd0-f9078decc85f",
   "metadata": {},
   "outputs": [
    {
     "name": "stdout",
     "output_type": "stream",
     "text": [
      "SpiderBoy\n",
      "41\n",
      "uk\n"
     ]
    }
   ],
   "source": [
    "user = {\n",
    "    \"name\": \"SpiderBoy\",\n",
    "    \"age\": 31,\n",
    "    \"location\": \"uk\"\n",
    "}\n",
    "\n",
    "print(user[\"name\"])     # use string keys to look up value rather than int index\n",
    "print(user[\"age\"])\n",
    "print(user[\"location\"])"
   ]
  },
  {
   "cell_type": "code",
   "execution_count": 62,
   "id": "99544408-db0f-42e3-a40e-c322e43f4de2",
   "metadata": {},
   "outputs": [
    {
     "data": {
      "text/plain": [
       "'Fraud'"
      ]
     },
     "execution_count": 62,
     "metadata": {},
     "output_type": "execute_result"
    }
   ],
   "source": [
    "# data science -- labelling for Fraud|NotFraud\n",
    "# dict keys can be lots of diff. thigns, not just strings...\n",
    "# but must be unique!\n",
    "# key = (age, days-since-purchase-of-insurance)  \n",
    "\n",
    "user = {\n",
    "    (18, 13) : \"Fraud\",\n",
    "    (60, 300) : \"NotFraud\"\n",
    "}\n",
    "\n",
    "user[(18, 13)]"
   ]
  },
  {
   "cell_type": "code",
   "execution_count": 63,
   "id": "3c349a41-2f6e-4e76-9342-aa74d48f4178",
   "metadata": {},
   "outputs": [
    {
     "data": {
      "text/plain": [
       "39.0"
      ]
     },
     "execution_count": 63,
     "metadata": {},
     "output_type": "execute_result"
    }
   ],
   "source": [
    "# dictionaries more commonly are more like matrices...\n",
    "users = {\n",
    "    \"age-at-purchase\": [18, 60],\n",
    "    \"days-from-purcahse\": [13, 300]\n",
    "}\n",
    "\n",
    "ages = users['age-at-purchase']\n",
    "\n",
    "sum(ages)/len(ages)"
   ]
  },
  {
   "cell_type": "code",
   "execution_count": null,
   "id": "cefefa9e-bcc4-4bf7-abd2-95bb990cdb70",
   "metadata": {},
   "outputs": [],
   "source": []
  },
  {
   "cell_type": "markdown",
   "id": "c4889761-ba1a-497b-8192-1611c7f8b6fc",
   "metadata": {},
   "source": [
    "Control Flow\n"
   ]
  },
  {
   "cell_type": "code",
   "execution_count": 65,
   "id": "1c5ada5d-39c5-415c-9eac-7d9cbb543daf",
   "metadata": {},
   "outputs": [
    {
     "name": "stdout",
     "output_type": "stream",
     "text": [
      "See Education Plans\n"
     ]
    }
   ],
   "source": [
    "user_age = 18\n",
    "\n",
    "if user_age > 65:                      # colons\n",
    "    print(\"See Retirement Plans\")      # indentation\n",
    "elif user_age > 21:                    # keyword, elif\n",
    "    print(\"See Vocation Plans\")\n",
    "elif user_age > 13:\n",
    "    print(\"See Education Plans\")\n",
    "else:\n",
    "    print(\"See your mother!\")"
   ]
  },
  {
   "cell_type": "code",
   "execution_count": 66,
   "id": "7e7be376-90d9-4ef0-8e4c-35cd83f6540a",
   "metadata": {},
   "outputs": [
    {
     "name": "stdout",
     "output_type": "stream",
     "text": [
      "1\n",
      "8\n",
      "7\n",
      "6\n",
      "5\n",
      "5\n"
     ]
    }
   ],
   "source": [
    "# while loops are rare, usually bad -- repeating\n",
    "\n",
    "ratings = [5,5,6,7,8,1]\n",
    "\n",
    "while len(ratings) > 0:\n",
    "    print(ratings.pop())    # remove last one"
   ]
  },
  {
   "cell_type": "code",
   "execution_count": 67,
   "id": "30d5454b-4455-4981-a0d6-6a6f3948703c",
   "metadata": {},
   "outputs": [
    {
     "name": "stdout",
     "output_type": "stream",
     "text": [
      "5\n",
      "5\n",
      "6\n",
      "7\n",
      "8\n",
      "1\n"
     ]
    },
    {
     "data": {
      "text/plain": [
       "[5, 5, 6, 7, 8, 1]"
      ]
     },
     "execution_count": 67,
     "metadata": {},
     "output_type": "execute_result"
    }
   ],
   "source": [
    "# for loop -- data processing loop\n",
    "\n",
    "ratings = [5,5,6,7,8,1]\n",
    "\n",
    "for element in ratings:      # for name-of-each-element  in source-data-input\n",
    "    print(element)           # algorithm for processing each-element\n",
    "    \n",
    "ratings"
   ]
  },
  {
   "cell_type": "code",
   "execution_count": null,
   "id": "e6d057f1-2f01-4d73-a417-a8eecb8c3655",
   "metadata": {},
   "outputs": [],
   "source": []
  }
 ],
 "metadata": {
  "kernelspec": {
   "display_name": "Python 3",
   "language": "python",
   "name": "python3"
  },
  "language_info": {
   "codemirror_mode": {
    "name": "ipython",
    "version": 3
   },
   "file_extension": ".py",
   "mimetype": "text/x-python",
   "name": "python",
   "nbconvert_exporter": "python",
   "pygments_lexer": "ipython3",
   "version": "3.7.8"
  }
 },
 "nbformat": 4,
 "nbformat_minor": 5
}
